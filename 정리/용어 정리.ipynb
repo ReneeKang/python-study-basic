{
 "cells": [
  {
   "cell_type": "code",
   "execution_count": null,
   "id": "28796d67-621b-4139-92e3-f90e03f3eade",
   "metadata": {},
   "outputs": [],
   "source": []
  },
  {
   "cell_type": "markdown",
   "id": "988e5329-5deb-4e74-83fd-59fb0bacb138",
   "metadata": {},
   "source": [
    "# 프로그래밍 언어"
   ]
  },
  {
   "cell_type": "markdown",
   "id": "a076a005-7272-4996-a9ea-db099e6c5990",
   "metadata": {},
   "source": [
    "## 식별자\n",
    "변수, 함수, 클래스 등과 같은 프로그램 요소를 구별하는 데 사용되는 이름이나 레이블을 나타냅니다.\n",
    "\n",
    "### 식별자 명명 규칙\n",
    "- 식별자는 문자로 시작해야 한다.\n",
    "  일반적으로 알파벳 (대소문자), 밑줄 (_) 또는 언더스코어로 시작합니다. 몇몇 언어에서는 숫자로 시작할 수 없거나 특수문자로 시작할 수 없는 경우도 있습니다.\n",
    "- 식별자는 문자, 숫자, 언더스코어(_)로 구성됩니다.\n",
    "- 대소문자를 구별하는 경우가 있습니다.\n",
    "- 예약어를 사용해서는 안됩니다.\n",
    "\n",
    "프로그래밍 언어마다 이러한 식별자 규칙이 다를 수 있으므로 언어의 문서나 스타일 가이드를 참조하여 해당 언어에서 사용 가능한 식별자 규칙을 확인하는 것이 좋습니다.<br>"
   ]
  },
  {
   "cell_type": "code",
   "execution_count": null,
   "id": "b721591a-2ee1-4b61-a902-1694217f7d80",
   "metadata": {},
   "outputs": [],
   "source": []
  },
  {
   "cell_type": "markdown",
   "id": "111bdce1-1aa5-4a82-ae32-fdccf78fb119",
   "metadata": {},
   "source": [
    "#### 식별자 + 예약어 파싱\n",
    "- 프로그래밍 언어에서 식별자를 파싱하는 것은 해당 언어의 컴파일러 또는 인터프리터가 수행하는 중요한 작업 중 하나입니다.\n",
    "- 파싱은 소스 코드를 읽어서 토큰(token)으로 분리하고, 이러한 토큰을 해석하여 프로그램의 구조를 이해하는 과정입니다.\n",
    "\n",
    "#### 파싱 과정\n",
    "\n",
    "토큰화(Tokenization): <br>\n",
    "먼저 소스 코드를 토큰으로 분리합니다. 토큰은 코드의 기본 구성 요소를 나타내며, 일반적으로 식별자, 연산자, 상수, 예약어 등이 될 수 있습니다. <br>\n",
    "식별자를 찾을 때는 공백, 줄바꿈, 특수 문자 등을 사용하여 코드를 나눕니다.\n",
    "\n",
    "파싱(Parser): <br>\n",
    "토큰화된 코드를 분석하여 프로그램의 구문을 이해합니다. 이 단계에서 식별자를 찾고, 이들이 어떻게 사용되었는지를 분석합니다. <br>\n",
    "예를 들어, 변수가 선언되었는지, 함수 호출이 올바른지, 연산자 우선순위를 적용하는 등의 작업을 수행합니다.\n",
    "\n",
    "의미 분석(Semantic Analysis): <br>\n",
    "파서는 프로그램의 구문만을 이해하는 것이 아니라 의미 분석도 수행합니다. <br>\n",
    "이 단계에서는 변수의 유효성을 검사하고, 타입 일치성을 확인하며, 함수 호출의 매개변수와 반환 값을 확인합니다.\n",
    "\n",
    "코드 생성(Code Generation): <br>\n",
    "파서가 프로그램을 파악하면, 이를 중간 코드 또는 기계 코드로 변환하여 실행 가능한 형태로 만들어야 합니다.\n",
    "\n",
    "\n"
   ]
  },
  {
   "cell_type": "code",
   "execution_count": null,
   "id": "75493341-07f9-459c-b406-1d204b696298",
   "metadata": {},
   "outputs": [],
   "source": []
  },
  {
   "cell_type": "markdown",
   "id": "19d56960-1672-4055-b943-beddc028188d",
   "metadata": {},
   "source": [
    "#### 파싱 과정에서 예약어를 식별하는 방법\n",
    "\n",
    "토큰화 -> 파서 -> 예약어 검사 -> 오류 처리\n",
    "\n",
    "\n",
    "\n"
   ]
  },
  {
   "cell_type": "markdown",
   "id": "76511d1c-4f51-45b6-9444-1e78f403730d",
   "metadata": {},
   "source": [
    "#### 식별자와 예약어를 파싱하고 바이너리 주소를 생성하는 방법"
   ]
  },
  {
   "cell_type": "code",
   "execution_count": 1,
   "id": "d3a72c63-c331-4b35-b543-11e91e1d4fa1",
   "metadata": {},
   "outputs": [],
   "source": [
    "source_code = \"\"\"\n",
    "    if count > 10:\n",
    "        print('Count is greater than 10')\n",
    "\"\"\""
   ]
  },
  {
   "cell_type": "code",
   "execution_count": 2,
   "id": "799c6240-23b2-4eda-a298-fd81ed3c00d7",
   "metadata": {},
   "outputs": [
    {
     "name": "stdout",
     "output_type": "stream",
     "text": [
      "Binary Address: 00000010101010001010011011100010010010111010100010100\n"
     ]
    }
   ],
   "source": [
    "# 코드를 공백과 줄바꿈으로 토큰화\n",
    "tokens = source_code.split()\n",
    "\n",
    "# 파싱 및 예약어 확인\n",
    "python_reserved_keywords = ['if', 'else', 'for', 'while', 'print', 'import', ...]  # 파이썬의 예약어 목록\n",
    "binary_address = []\n",
    "\n",
    "for token in tokens:\n",
    "    if token in python_reserved_keywords:\n",
    "        binary_address.append(f'00{python_reserved_keywords.index(token):03b}')\n",
    "    else:\n",
    "        binary_address.append(f'01{len(token):04b}')\n",
    "\n",
    "binary_address_str = ''.join(binary_address)\n",
    "print(f\"Binary Address: {binary_address_str}\")\n"
   ]
  },
  {
   "cell_type": "markdown",
   "id": "8523abf8-50a9-4489-baaf-4f43b254ff7e",
   "metadata": {
    "jp-MarkdownHeadingCollapsed": true
   },
   "source": []
  },
  {
   "cell_type": "code",
   "execution_count": null,
   "id": "067a6d35-b77c-4807-a94f-8474684d2369",
   "metadata": {},
   "outputs": [],
   "source": []
  },
  {
   "cell_type": "markdown",
   "id": "e11cd4e2-4aa5-4a78-ac21-d4cca72886be",
   "metadata": {},
   "source": [
    "### 식별자 체크와 스코프 관리\n",
    "\n",
    "- 스코프 <br>\n",
    "  코드에서 변수와 함수가 유효한 범위를 나타내는 개념입니다.<br>\n",
    "  일반적으로 스코프는 중첩된 블록(예: 함수, 반복문) 내에서 변수와 함수를 참조할 수 있는 범위를 정의합니다.<br>\n",
    "  스코프는 전역 스코프(Global Scope)와 지역 스코프(Local Scope)로 나누어집니다.<br>\n",
    "- 식별자 체크 <br>\n",
    "  코드에서 변수나 함수를 참조할 때 해당 식별자가 어떤 스코프에서 정의되었는지 결정하는 과정입니다.\n",
    "  1) 현재 스코프에서 식별자를 찾습니다. 만약 찾을 수 있다면 그 식별자를 사용합니다.\n",
    "  2) 현재 스코프에서 식별자를 찾지 못한 경우, 상위 스코프(부모 스코프)로 이동하여 다시 찾습니다.\n",
    "  3) 전역 스코프까지 올라가도 찾지 못한 경우, 오류를 발생시킵니다(실행 시간 오류 또는 컴파일 시간 오류)."
   ]
  },
  {
   "cell_type": "markdown",
   "id": "18bbc738-31a6-441a-ab59-d32a5eddd297",
   "metadata": {},
   "source": [
    "#### 파이썬에서의 Scope\n",
    "\n",
    "- 함수 / 모듈 스코프\n",
    "- 객체 / 클래스 스코프"
   ]
  },
  {
   "cell_type": "code",
   "execution_count": null,
   "id": "f83a7190-5b57-4e40-80b7-4841b8bf1722",
   "metadata": {},
   "outputs": [],
   "source": []
  },
  {
   "cell_type": "code",
   "execution_count": null,
   "id": "6f144229-5a4e-44c9-afcf-775ae837f388",
   "metadata": {},
   "outputs": [],
   "source": []
  },
  {
   "cell_type": "markdown",
   "id": "adfcf009-15c5-4bbe-9342-92a03c862fe7",
   "metadata": {},
   "source": [
    "## 자료형(Data Types)과 타입시스템(Type System)"
   ]
  },
  {
   "cell_type": "markdown",
   "id": "ddc497b8-1b05-40c3-aca3-9861f15a4d1c",
   "metadata": {},
   "source": [
    "#### 자료형\n",
    "자료형은 변수에 저장되거나 처리되는 데이터의 종류를 정의합니다. \n",
    "#### 타입시스템\n",
    "타입 시스템은 언어에서 자료형을 어떻게 처리하고 조합하는지를 규정하는 시스템입니다. <br>\n",
    "다양한 타입 시스템이 있으며, 주요 유형은 다음과 같습니다.\n",
    "\n",
    "- 정적 타입 시스템(Static Type System): <br>\n",
    "  변수의 타입은 컴파일 시점에 결정되며, 실행 중에 변경할 수 없습니다. 대표적으로 C, C++, Java 등이 이러한 시스템을 사용합니다.\n",
    "\n",
    "- 동적 타입 시스템(Dynamic Type System): <br>\n",
    "  변수의 타입은 실행 중에 결정되며, 런타임에 변경할 수 있습니다. 대표적으로 Python, JavaScript, Ruby 등이 이러한 시스템을 사용합니다.\n",
    "\n",
    "- 강력한 타입 시스템(Strong Type System): <br>\n",
    "  타입 간의 변환을 엄격하게 처리하는 시스템으로, 데이터 형 변환이 명시적으로 이루어져야 합니다.\n",
    "\n",
    "- 약한 타입 시스템(Weak Type System): <br>\n",
    "  타입 간의 변환을 자동으로 처리하거나 암묵적으로 허용하는 시스템으로, 데이터 형 변환이 상대적으로 유연합니다."
   ]
  },
  {
   "cell_type": "code",
   "execution_count": null,
   "id": "3ab54c3a-8e13-4acb-bfe7-2eb5779d20e7",
   "metadata": {},
   "outputs": [],
   "source": []
  },
  {
   "cell_type": "markdown",
   "id": "2958e2ba-0bfd-458e-8d4b-b2fb680c1478",
   "metadata": {},
   "source": [
    "#### 파이썬의 타입시스템\n",
    "- 파이썬은 강타입 언어이다.\n",
    "- 파이썬은 타입이 클래스이다. 클래스가 없으면 값(객체)가 없다.\n",
    "- 클래스에서 만들어진 모든 객체는 1급객체이기 때문에 모든 정수, 함수, 클래스 등 모든 오브젝트는 값(Value)으로 정의 될 수 있다."
   ]
  },
  {
   "cell_type": "code",
   "execution_count": 3,
   "id": "6568c334-1651-4b3d-a9fc-e5eb649dc85e",
   "metadata": {},
   "outputs": [
    {
     "name": "stdout",
     "output_type": "stream",
     "text": [
      "<class 'int'>\n",
      "<class 'str'>\n"
     ]
    }
   ],
   "source": [
    "a = 100; b = \"string\";\n",
    "print( type(a) )\n",
    "print( type(b) )"
   ]
  },
  {
   "cell_type": "code",
   "execution_count": 4,
   "id": "556f3d8d-42db-455f-a9b9-0f20c87dd0a7",
   "metadata": {},
   "outputs": [
    {
     "name": "stdout",
     "output_type": "stream",
     "text": [
      "<class 'type'>\n",
      "<class 'type'>\n"
     ]
    }
   ],
   "source": [
    "print( type(int) )\n",
    "print( type(str) )"
   ]
  },
  {
   "cell_type": "code",
   "execution_count": 16,
   "id": "17bd7486-1154-435d-bac3-a29983131730",
   "metadata": {},
   "outputs": [
    {
     "name": "stdout",
     "output_type": "stream",
     "text": [
      "<class 'function'>\n"
     ]
    }
   ],
   "source": [
    "a = 5\n",
    "b = 10\n",
    "def abc(x, y):\n",
    "    print ('global symbol table:', globals())\n",
    "    print ('local symbol table:', locals())\n",
    "    return x + y\n",
    "\n",
    "print( type(abc) )"
   ]
  },
  {
   "cell_type": "code",
   "execution_count": null,
   "id": "1b1131df-578e-4bb1-9b2b-2645e4d70ef7",
   "metadata": {},
   "outputs": [],
   "source": []
  },
  {
   "cell_type": "code",
   "execution_count": 17,
   "id": "0a9aadf5-5c53-4035-aa93-ba3be3f8a841",
   "metadata": {},
   "outputs": [
    {
     "name": "stdout",
     "output_type": "stream",
     "text": [
      "<class 'type'>\n"
     ]
    }
   ],
   "source": [
    "class apple:\n",
    "    pass\n",
    "\n",
    "print( type(apple) )"
   ]
  },
  {
   "cell_type": "code",
   "execution_count": 18,
   "id": "50c2ad8b-6756-47d1-a7d7-8ae9a84b877a",
   "metadata": {},
   "outputs": [
    {
     "name": "stdout",
     "output_type": "stream",
     "text": [
      "<class '__main__.apple'>\n"
     ]
    }
   ],
   "source": [
    "a = apple()\n",
    "print( type(a) )"
   ]
  },
  {
   "cell_type": "code",
   "execution_count": null,
   "id": "abef0e44-1a12-4702-a44b-7c52ce211f72",
   "metadata": {},
   "outputs": [],
   "source": []
  },
  {
   "cell_type": "markdown",
   "id": "33471b26-394f-4066-ac1d-b594d193e086",
   "metadata": {},
   "source": [
    "#### 함수\n",
    "- 함수는 항상 자기를 정의한 모듈을 갖고있다. 함수는 모듈 안에 정의하기 때문이다. `__module__`\n",
    "- 자기 모듈과 전역을 들고다닌다. `__globals__`"
   ]
  },
  {
   "cell_type": "code",
   "execution_count": 19,
   "id": "8138b48e-c0d5-4c55-9aef-e5f7cde3083c",
   "metadata": {},
   "outputs": [
    {
     "data": {
      "text/plain": [
       "['__annotations__',\n",
       " '__call__',\n",
       " '__class__',\n",
       " '__closure__',\n",
       " '__code__',\n",
       " '__defaults__',\n",
       " '__delattr__',\n",
       " '__dict__',\n",
       " '__dir__',\n",
       " '__doc__',\n",
       " '__eq__',\n",
       " '__format__',\n",
       " '__ge__',\n",
       " '__get__',\n",
       " '__getattribute__',\n",
       " '__globals__',\n",
       " '__gt__',\n",
       " '__hash__',\n",
       " '__init__',\n",
       " '__init_subclass__',\n",
       " '__kwdefaults__',\n",
       " '__le__',\n",
       " '__lt__',\n",
       " '__module__',\n",
       " '__name__',\n",
       " '__ne__',\n",
       " '__new__',\n",
       " '__qualname__',\n",
       " '__reduce__',\n",
       " '__reduce_ex__',\n",
       " '__repr__',\n",
       " '__setattr__',\n",
       " '__sizeof__',\n",
       " '__str__',\n",
       " '__subclasshook__']"
      ]
     },
     "execution_count": 19,
     "metadata": {},
     "output_type": "execute_result"
    }
   ],
   "source": [
    "dir(abc) "
   ]
  },
  {
   "cell_type": "code",
   "execution_count": 20,
   "id": "6d2877bb-8259-482b-a9c2-42a93411b33e",
   "metadata": {},
   "outputs": [
    {
     "name": "stdout",
     "output_type": "stream",
     "text": [
      "__main__\n",
      "\n",
      "{'__name__': '__main__', '__doc__': 'Automatically created module for IPython interactive environment', '__package__': None, '__loader__': None, '__spec__': None, '__builtin__': <module 'builtins' (built-in)>, '__builtins__': <module 'builtins' (built-in)>, '_ih': ['', 'source_code = \"\"\"\\n    if count > 10:\\n        print(\\'Count is greater than 10\\')\\n\"\"\"', '# 코드를 공백과 줄바꿈으로 토큰화\\ntokens = source_code.split()\\n\\n# 파싱 및 예약어 확인\\npython_reserved_keywords = [\\'if\\', \\'else\\', \\'for\\', \\'while\\', \\'print\\', \\'import\\', ...]  # 파이썬의 예약어 목록\\nbinary_address = []\\n\\nfor token in tokens:\\n    if token in python_reserved_keywords:\\n        binary_address.append(f\\'00{python_reserved_keywords.index(token):03b}\\')\\n    else:\\n        binary_address.append(f\\'01{len(token):04b}\\')\\n\\nbinary_address_str = \\'\\'.join(binary_address)\\nprint(f\"Binary Address: {binary_address_str}\")', 'a = 100; b = \"string\";\\nprint( type(a) )\\nprint( type(b) )', 'print( type(int) )\\nprint( type(str) )', 'a = 5\\nb = 10\\ndef abc(x, y):\\n    print( locals() )\\n    return x + y\\n\\nprint( type(abc) )', 'class apple:\\n    pass\\n\\nprint( type(apple) )', 'a = apple()\\nprint( type(a) )', 'dir(abc) ', \"print( abc.__module__ )\\nprint( '' )\\nprint( abc.__globals__ )\", \"globals()['abc']\", \"locals()['abc']\", 'abc(1,2)', \"abc.__globals__['b']\", \"print( abc.__globals__['a'] )\\nprint( abc.__globals__['b'] )\", \"x = 10\\n\\ndef my_function():\\n    y = 20\\n    print( my_function.__globals__['x'])  # 모듈 수준의 전역 변수 x에 접근\\n    # print(__globals__['y'])  # 오류: 함수 내부의 지역 변수 y는 접근할 수 없음\\n    print( my_function.__locals__['y'])\\n\\nmy_function()\", \"a = 5\\nb = 10\\ndef abc(x, y):\\n    print ('global symbol table:', globals())\\n    print ('local symbol table:', locals())\\n    return x + y\\n\\nprint( type(abc) )\", 'class apple:\\n    pass\\n\\nprint( type(apple) )', 'a = apple()\\nprint( type(a) )', 'dir(abc) ', \"print( abc.__module__ )\\nprint( '' )\\nprint( abc.__globals__ )\"], '_oh': {8: ['__annotations__', '__call__', '__class__', '__closure__', '__code__', '__defaults__', '__delattr__', '__dict__', '__dir__', '__doc__', '__eq__', '__format__', '__ge__', '__get__', '__getattribute__', '__globals__', '__gt__', '__hash__', '__init__', '__init_subclass__', '__kwdefaults__', '__le__', '__lt__', '__module__', '__name__', '__ne__', '__new__', '__qualname__', '__reduce__', '__reduce_ex__', '__repr__', '__setattr__', '__sizeof__', '__str__', '__subclasshook__'], 10: <function abc at 0x10603e280>, 11: <function abc at 0x10603e280>, 12: 3, 13: 10, 19: ['__annotations__', '__call__', '__class__', '__closure__', '__code__', '__defaults__', '__delattr__', '__dict__', '__dir__', '__doc__', '__eq__', '__format__', '__ge__', '__get__', '__getattribute__', '__globals__', '__gt__', '__hash__', '__init__', '__init_subclass__', '__kwdefaults__', '__le__', '__lt__', '__module__', '__name__', '__ne__', '__new__', '__qualname__', '__reduce__', '__reduce_ex__', '__repr__', '__setattr__', '__sizeof__', '__str__', '__subclasshook__']}, '_dh': [PosixPath('/Users/renee/my-workspace/python/basic/정리')], 'In': ['', 'source_code = \"\"\"\\n    if count > 10:\\n        print(\\'Count is greater than 10\\')\\n\"\"\"', '# 코드를 공백과 줄바꿈으로 토큰화\\ntokens = source_code.split()\\n\\n# 파싱 및 예약어 확인\\npython_reserved_keywords = [\\'if\\', \\'else\\', \\'for\\', \\'while\\', \\'print\\', \\'import\\', ...]  # 파이썬의 예약어 목록\\nbinary_address = []\\n\\nfor token in tokens:\\n    if token in python_reserved_keywords:\\n        binary_address.append(f\\'00{python_reserved_keywords.index(token):03b}\\')\\n    else:\\n        binary_address.append(f\\'01{len(token):04b}\\')\\n\\nbinary_address_str = \\'\\'.join(binary_address)\\nprint(f\"Binary Address: {binary_address_str}\")', 'a = 100; b = \"string\";\\nprint( type(a) )\\nprint( type(b) )', 'print( type(int) )\\nprint( type(str) )', 'a = 5\\nb = 10\\ndef abc(x, y):\\n    print( locals() )\\n    return x + y\\n\\nprint( type(abc) )', 'class apple:\\n    pass\\n\\nprint( type(apple) )', 'a = apple()\\nprint( type(a) )', 'dir(abc) ', \"print( abc.__module__ )\\nprint( '' )\\nprint( abc.__globals__ )\", \"globals()['abc']\", \"locals()['abc']\", 'abc(1,2)', \"abc.__globals__['b']\", \"print( abc.__globals__['a'] )\\nprint( abc.__globals__['b'] )\", \"x = 10\\n\\ndef my_function():\\n    y = 20\\n    print( my_function.__globals__['x'])  # 모듈 수준의 전역 변수 x에 접근\\n    # print(__globals__['y'])  # 오류: 함수 내부의 지역 변수 y는 접근할 수 없음\\n    print( my_function.__locals__['y'])\\n\\nmy_function()\", \"a = 5\\nb = 10\\ndef abc(x, y):\\n    print ('global symbol table:', globals())\\n    print ('local symbol table:', locals())\\n    return x + y\\n\\nprint( type(abc) )\", 'class apple:\\n    pass\\n\\nprint( type(apple) )', 'a = apple()\\nprint( type(a) )', 'dir(abc) ', \"print( abc.__module__ )\\nprint( '' )\\nprint( abc.__globals__ )\"], 'Out': {8: ['__annotations__', '__call__', '__class__', '__closure__', '__code__', '__defaults__', '__delattr__', '__dict__', '__dir__', '__doc__', '__eq__', '__format__', '__ge__', '__get__', '__getattribute__', '__globals__', '__gt__', '__hash__', '__init__', '__init_subclass__', '__kwdefaults__', '__le__', '__lt__', '__module__', '__name__', '__ne__', '__new__', '__qualname__', '__reduce__', '__reduce_ex__', '__repr__', '__setattr__', '__sizeof__', '__str__', '__subclasshook__'], 10: <function abc at 0x10603e280>, 11: <function abc at 0x10603e280>, 12: 3, 13: 10, 19: ['__annotations__', '__call__', '__class__', '__closure__', '__code__', '__defaults__', '__delattr__', '__dict__', '__dir__', '__doc__', '__eq__', '__format__', '__ge__', '__get__', '__getattribute__', '__globals__', '__gt__', '__hash__', '__init__', '__init_subclass__', '__kwdefaults__', '__le__', '__lt__', '__module__', '__name__', '__ne__', '__new__', '__qualname__', '__reduce__', '__reduce_ex__', '__repr__', '__setattr__', '__sizeof__', '__str__', '__subclasshook__']}, 'get_ipython': <bound method InteractiveShell.get_ipython of <ipykernel.zmqshell.ZMQInteractiveShell object at 0x105d32ca0>>, 'exit': <IPython.core.autocall.ZMQExitAutocall object at 0x105d448e0>, 'quit': <IPython.core.autocall.ZMQExitAutocall object at 0x105d448e0>, 'open': <function open at 0x1049a1b80>, '_': ['__annotations__', '__call__', '__class__', '__closure__', '__code__', '__defaults__', '__delattr__', '__dict__', '__dir__', '__doc__', '__eq__', '__format__', '__ge__', '__get__', '__getattribute__', '__globals__', '__gt__', '__hash__', '__init__', '__init_subclass__', '__kwdefaults__', '__le__', '__lt__', '__module__', '__name__', '__ne__', '__new__', '__qualname__', '__reduce__', '__reduce_ex__', '__repr__', '__setattr__', '__sizeof__', '__str__', '__subclasshook__'], '__': 10, '___': 3, '__session__': '/Users/renee/my-workspace/python/basic/정리/Untitled.ipynb', '_i': 'dir(abc) ', '_ii': 'a = apple()\\nprint( type(a) )', '_iii': 'class apple:\\n    pass\\n\\nprint( type(apple) )', '_i1': 'source_code = \"\"\"\\n    if count > 10:\\n        print(\\'Count is greater than 10\\')\\n\"\"\"', 'source_code': \"\\n    if count > 10:\\n        print('Count is greater than 10')\\n\", '_i2': '# 코드를 공백과 줄바꿈으로 토큰화\\ntokens = source_code.split()\\n\\n# 파싱 및 예약어 확인\\npython_reserved_keywords = [\\'if\\', \\'else\\', \\'for\\', \\'while\\', \\'print\\', \\'import\\', ...]  # 파이썬의 예약어 목록\\nbinary_address = []\\n\\nfor token in tokens:\\n    if token in python_reserved_keywords:\\n        binary_address.append(f\\'00{python_reserved_keywords.index(token):03b}\\')\\n    else:\\n        binary_address.append(f\\'01{len(token):04b}\\')\\n\\nbinary_address_str = \\'\\'.join(binary_address)\\nprint(f\"Binary Address: {binary_address_str}\")', 'tokens': ['if', 'count', '>', '10:', \"print('Count\", 'is', 'greater', 'than', \"10')\"], 'python_reserved_keywords': ['if', 'else', 'for', 'while', 'print', 'import', Ellipsis], 'binary_address': ['00000', '010101', '010001', '010011', '011100', '010010', '010111', '010100', '010100'], 'token': \"10')\", 'binary_address_str': '00000010101010001010011011100010010010111010100010100', '_i3': 'a = 100; b = \"string\";\\nprint( type(a) )\\nprint( type(b) )', 'a': <__main__.apple object at 0x1060385e0>, 'b': 10, '_i4': 'print( type(int) )\\nprint( type(str) )', '_i5': 'a = 5\\nb = 10\\ndef abc(x, y):\\n    print( locals() )\\n    return x + y\\n\\nprint( type(abc) )', 'abc': <function abc at 0x105ff9a60>, '_i6': 'class apple:\\n    pass\\n\\nprint( type(apple) )', 'apple': <class '__main__.apple'>, '_i7': 'a = apple()\\nprint( type(a) )', '_i8': 'dir(abc) ', '_8': ['__annotations__', '__call__', '__class__', '__closure__', '__code__', '__defaults__', '__delattr__', '__dict__', '__dir__', '__doc__', '__eq__', '__format__', '__ge__', '__get__', '__getattribute__', '__globals__', '__gt__', '__hash__', '__init__', '__init_subclass__', '__kwdefaults__', '__le__', '__lt__', '__module__', '__name__', '__ne__', '__new__', '__qualname__', '__reduce__', '__reduce_ex__', '__repr__', '__setattr__', '__sizeof__', '__str__', '__subclasshook__'], '_i9': \"print( abc.__module__ )\\nprint( '' )\\nprint( abc.__globals__ )\", '_i10': \"globals()['abc']\", '_10': <function abc at 0x10603e280>, '_i11': \"locals()['abc']\", '_11': <function abc at 0x10603e280>, '_i12': 'abc(1,2)', '_12': 3, '_i13': \"abc.__globals__['b']\", '_13': 10, '_i14': \"print( abc.__globals__['a'] )\\nprint( abc.__globals__['b'] )\", '_i15': \"x = 10\\n\\ndef my_function():\\n    y = 20\\n    print( my_function.__globals__['x'])  # 모듈 수준의 전역 변수 x에 접근\\n    # print(__globals__['y'])  # 오류: 함수 내부의 지역 변수 y는 접근할 수 없음\\n    print( my_function.__locals__['y'])\\n\\nmy_function()\", 'x': 10, 'my_function': <function my_function at 0x105ff9af0>, '_i16': \"a = 5\\nb = 10\\ndef abc(x, y):\\n    print ('global symbol table:', globals())\\n    print ('local symbol table:', locals())\\n    return x + y\\n\\nprint( type(abc) )\", '_i17': 'class apple:\\n    pass\\n\\nprint( type(apple) )', '_i18': 'a = apple()\\nprint( type(a) )', '_i19': 'dir(abc) ', '_19': ['__annotations__', '__call__', '__class__', '__closure__', '__code__', '__defaults__', '__delattr__', '__dict__', '__dir__', '__doc__', '__eq__', '__format__', '__ge__', '__get__', '__getattribute__', '__globals__', '__gt__', '__hash__', '__init__', '__init_subclass__', '__kwdefaults__', '__le__', '__lt__', '__module__', '__name__', '__ne__', '__new__', '__qualname__', '__reduce__', '__reduce_ex__', '__repr__', '__setattr__', '__sizeof__', '__str__', '__subclasshook__'], '_i20': \"print( abc.__module__ )\\nprint( '' )\\nprint( abc.__globals__ )\"}\n"
     ]
    }
   ],
   "source": [
    "print( abc.__module__ )\n",
    "print( '' )\n",
    "print( abc.__globals__ )"
   ]
  },
  {
   "cell_type": "code",
   "execution_count": 21,
   "id": "9ebb8131-8750-44f1-ab6e-e782b731d10a",
   "metadata": {},
   "outputs": [
    {
     "data": {
      "text/plain": [
       "<function __main__.abc(x, y)>"
      ]
     },
     "execution_count": 21,
     "metadata": {},
     "output_type": "execute_result"
    }
   ],
   "source": [
    "globals()['abc']"
   ]
  },
  {
   "cell_type": "code",
   "execution_count": 23,
   "id": "eabb07b0-87ed-4f31-96a8-980fe8a20abd",
   "metadata": {},
   "outputs": [
    {
     "data": {
      "text/plain": [
       "<function __main__.abc(x, y)>"
      ]
     },
     "execution_count": 23,
     "metadata": {},
     "output_type": "execute_result"
    }
   ],
   "source": [
    "locals()['abc']"
   ]
  },
  {
   "cell_type": "code",
   "execution_count": 24,
   "id": "8fc5f013-d4f0-44bf-b04a-31ba9b6a18ae",
   "metadata": {
    "scrolled": true
   },
   "outputs": [
    {
     "name": "stdout",
     "output_type": "stream",
     "text": [
      "global symbol table: {'__name__': '__main__', '__doc__': 'Automatically created module for IPython interactive environment', '__package__': None, '__loader__': None, '__spec__': None, '__builtin__': <module 'builtins' (built-in)>, '__builtins__': <module 'builtins' (built-in)>, '_ih': ['', 'source_code = \"\"\"\\n    if count > 10:\\n        print(\\'Count is greater than 10\\')\\n\"\"\"', '# 코드를 공백과 줄바꿈으로 토큰화\\ntokens = source_code.split()\\n\\n# 파싱 및 예약어 확인\\npython_reserved_keywords = [\\'if\\', \\'else\\', \\'for\\', \\'while\\', \\'print\\', \\'import\\', ...]  # 파이썬의 예약어 목록\\nbinary_address = []\\n\\nfor token in tokens:\\n    if token in python_reserved_keywords:\\n        binary_address.append(f\\'00{python_reserved_keywords.index(token):03b}\\')\\n    else:\\n        binary_address.append(f\\'01{len(token):04b}\\')\\n\\nbinary_address_str = \\'\\'.join(binary_address)\\nprint(f\"Binary Address: {binary_address_str}\")', 'a = 100; b = \"string\";\\nprint( type(a) )\\nprint( type(b) )', 'print( type(int) )\\nprint( type(str) )', 'a = 5\\nb = 10\\ndef abc(x, y):\\n    print( locals() )\\n    return x + y\\n\\nprint( type(abc) )', 'class apple:\\n    pass\\n\\nprint( type(apple) )', 'a = apple()\\nprint( type(a) )', 'dir(abc) ', \"print( abc.__module__ )\\nprint( '' )\\nprint( abc.__globals__ )\", \"globals()['abc']\", \"locals()['abc']\", 'abc(1,2)', \"abc.__globals__['b']\", \"print( abc.__globals__['a'] )\\nprint( abc.__globals__['b'] )\", \"x = 10\\n\\ndef my_function():\\n    y = 20\\n    print( my_function.__globals__['x'])  # 모듈 수준의 전역 변수 x에 접근\\n    # print(__globals__['y'])  # 오류: 함수 내부의 지역 변수 y는 접근할 수 없음\\n    print( my_function.__locals__['y'])\\n\\nmy_function()\", \"a = 5\\nb = 10\\ndef abc(x, y):\\n    print ('global symbol table:', globals())\\n    print ('local symbol table:', locals())\\n    return x + y\\n\\nprint( type(abc) )\", 'class apple:\\n    pass\\n\\nprint( type(apple) )', 'a = apple()\\nprint( type(a) )', 'dir(abc) ', \"print( abc.__module__ )\\nprint( '' )\\nprint( abc.__globals__ )\", \"globals()['abc']\", \"locals()['abc']\", \"locals()['abc']\", 'abc(1,2)'], '_oh': {8: ['__annotations__', '__call__', '__class__', '__closure__', '__code__', '__defaults__', '__delattr__', '__dict__', '__dir__', '__doc__', '__eq__', '__format__', '__ge__', '__get__', '__getattribute__', '__globals__', '__gt__', '__hash__', '__init__', '__init_subclass__', '__kwdefaults__', '__le__', '__lt__', '__module__', '__name__', '__ne__', '__new__', '__qualname__', '__reduce__', '__reduce_ex__', '__repr__', '__setattr__', '__sizeof__', '__str__', '__subclasshook__'], 10: <function abc at 0x10603e280>, 11: <function abc at 0x10603e280>, 12: 3, 13: 10, 19: ['__annotations__', '__call__', '__class__', '__closure__', '__code__', '__defaults__', '__delattr__', '__dict__', '__dir__', '__doc__', '__eq__', '__format__', '__ge__', '__get__', '__getattribute__', '__globals__', '__gt__', '__hash__', '__init__', '__init_subclass__', '__kwdefaults__', '__le__', '__lt__', '__module__', '__name__', '__ne__', '__new__', '__qualname__', '__reduce__', '__reduce_ex__', '__repr__', '__setattr__', '__sizeof__', '__str__', '__subclasshook__'], 21: <function abc at 0x105ff9a60>, 22: <function abc at 0x105ff9a60>, 23: <function abc at 0x105ff9a60>}, '_dh': [PosixPath('/Users/renee/my-workspace/python/basic/정리')], 'In': ['', 'source_code = \"\"\"\\n    if count > 10:\\n        print(\\'Count is greater than 10\\')\\n\"\"\"', '# 코드를 공백과 줄바꿈으로 토큰화\\ntokens = source_code.split()\\n\\n# 파싱 및 예약어 확인\\npython_reserved_keywords = [\\'if\\', \\'else\\', \\'for\\', \\'while\\', \\'print\\', \\'import\\', ...]  # 파이썬의 예약어 목록\\nbinary_address = []\\n\\nfor token in tokens:\\n    if token in python_reserved_keywords:\\n        binary_address.append(f\\'00{python_reserved_keywords.index(token):03b}\\')\\n    else:\\n        binary_address.append(f\\'01{len(token):04b}\\')\\n\\nbinary_address_str = \\'\\'.join(binary_address)\\nprint(f\"Binary Address: {binary_address_str}\")', 'a = 100; b = \"string\";\\nprint( type(a) )\\nprint( type(b) )', 'print( type(int) )\\nprint( type(str) )', 'a = 5\\nb = 10\\ndef abc(x, y):\\n    print( locals() )\\n    return x + y\\n\\nprint( type(abc) )', 'class apple:\\n    pass\\n\\nprint( type(apple) )', 'a = apple()\\nprint( type(a) )', 'dir(abc) ', \"print( abc.__module__ )\\nprint( '' )\\nprint( abc.__globals__ )\", \"globals()['abc']\", \"locals()['abc']\", 'abc(1,2)', \"abc.__globals__['b']\", \"print( abc.__globals__['a'] )\\nprint( abc.__globals__['b'] )\", \"x = 10\\n\\ndef my_function():\\n    y = 20\\n    print( my_function.__globals__['x'])  # 모듈 수준의 전역 변수 x에 접근\\n    # print(__globals__['y'])  # 오류: 함수 내부의 지역 변수 y는 접근할 수 없음\\n    print( my_function.__locals__['y'])\\n\\nmy_function()\", \"a = 5\\nb = 10\\ndef abc(x, y):\\n    print ('global symbol table:', globals())\\n    print ('local symbol table:', locals())\\n    return x + y\\n\\nprint( type(abc) )\", 'class apple:\\n    pass\\n\\nprint( type(apple) )', 'a = apple()\\nprint( type(a) )', 'dir(abc) ', \"print( abc.__module__ )\\nprint( '' )\\nprint( abc.__globals__ )\", \"globals()['abc']\", \"locals()['abc']\", \"locals()['abc']\", 'abc(1,2)'], 'Out': {8: ['__annotations__', '__call__', '__class__', '__closure__', '__code__', '__defaults__', '__delattr__', '__dict__', '__dir__', '__doc__', '__eq__', '__format__', '__ge__', '__get__', '__getattribute__', '__globals__', '__gt__', '__hash__', '__init__', '__init_subclass__', '__kwdefaults__', '__le__', '__lt__', '__module__', '__name__', '__ne__', '__new__', '__qualname__', '__reduce__', '__reduce_ex__', '__repr__', '__setattr__', '__sizeof__', '__str__', '__subclasshook__'], 10: <function abc at 0x10603e280>, 11: <function abc at 0x10603e280>, 12: 3, 13: 10, 19: ['__annotations__', '__call__', '__class__', '__closure__', '__code__', '__defaults__', '__delattr__', '__dict__', '__dir__', '__doc__', '__eq__', '__format__', '__ge__', '__get__', '__getattribute__', '__globals__', '__gt__', '__hash__', '__init__', '__init_subclass__', '__kwdefaults__', '__le__', '__lt__', '__module__', '__name__', '__ne__', '__new__', '__qualname__', '__reduce__', '__reduce_ex__', '__repr__', '__setattr__', '__sizeof__', '__str__', '__subclasshook__'], 21: <function abc at 0x105ff9a60>, 22: <function abc at 0x105ff9a60>, 23: <function abc at 0x105ff9a60>}, 'get_ipython': <bound method InteractiveShell.get_ipython of <ipykernel.zmqshell.ZMQInteractiveShell object at 0x105d32ca0>>, 'exit': <IPython.core.autocall.ZMQExitAutocall object at 0x105d448e0>, 'quit': <IPython.core.autocall.ZMQExitAutocall object at 0x105d448e0>, 'open': <function open at 0x1049a1b80>, '_': <function abc at 0x105ff9a60>, '__': <function abc at 0x105ff9a60>, '___': <function abc at 0x105ff9a60>, '__session__': '/Users/renee/my-workspace/python/basic/정리/Untitled.ipynb', '_i': \"locals()['abc']\", '_ii': \"locals()['abc']\", '_iii': \"globals()['abc']\", '_i1': 'source_code = \"\"\"\\n    if count > 10:\\n        print(\\'Count is greater than 10\\')\\n\"\"\"', 'source_code': \"\\n    if count > 10:\\n        print('Count is greater than 10')\\n\", '_i2': '# 코드를 공백과 줄바꿈으로 토큰화\\ntokens = source_code.split()\\n\\n# 파싱 및 예약어 확인\\npython_reserved_keywords = [\\'if\\', \\'else\\', \\'for\\', \\'while\\', \\'print\\', \\'import\\', ...]  # 파이썬의 예약어 목록\\nbinary_address = []\\n\\nfor token in tokens:\\n    if token in python_reserved_keywords:\\n        binary_address.append(f\\'00{python_reserved_keywords.index(token):03b}\\')\\n    else:\\n        binary_address.append(f\\'01{len(token):04b}\\')\\n\\nbinary_address_str = \\'\\'.join(binary_address)\\nprint(f\"Binary Address: {binary_address_str}\")', 'tokens': ['if', 'count', '>', '10:', \"print('Count\", 'is', 'greater', 'than', \"10')\"], 'python_reserved_keywords': ['if', 'else', 'for', 'while', 'print', 'import', Ellipsis], 'binary_address': ['00000', '010101', '010001', '010011', '011100', '010010', '010111', '010100', '010100'], 'token': \"10')\", 'binary_address_str': '00000010101010001010011011100010010010111010100010100', '_i3': 'a = 100; b = \"string\";\\nprint( type(a) )\\nprint( type(b) )', 'a': <__main__.apple object at 0x1060385e0>, 'b': 10, '_i4': 'print( type(int) )\\nprint( type(str) )', '_i5': 'a = 5\\nb = 10\\ndef abc(x, y):\\n    print( locals() )\\n    return x + y\\n\\nprint( type(abc) )', 'abc': <function abc at 0x105ff9a60>, '_i6': 'class apple:\\n    pass\\n\\nprint( type(apple) )', 'apple': <class '__main__.apple'>, '_i7': 'a = apple()\\nprint( type(a) )', '_i8': 'dir(abc) ', '_8': ['__annotations__', '__call__', '__class__', '__closure__', '__code__', '__defaults__', '__delattr__', '__dict__', '__dir__', '__doc__', '__eq__', '__format__', '__ge__', '__get__', '__getattribute__', '__globals__', '__gt__', '__hash__', '__init__', '__init_subclass__', '__kwdefaults__', '__le__', '__lt__', '__module__', '__name__', '__ne__', '__new__', '__qualname__', '__reduce__', '__reduce_ex__', '__repr__', '__setattr__', '__sizeof__', '__str__', '__subclasshook__'], '_i9': \"print( abc.__module__ )\\nprint( '' )\\nprint( abc.__globals__ )\", '_i10': \"globals()['abc']\", '_10': <function abc at 0x10603e280>, '_i11': \"locals()['abc']\", '_11': <function abc at 0x10603e280>, '_i12': 'abc(1,2)', '_12': 3, '_i13': \"abc.__globals__['b']\", '_13': 10, '_i14': \"print( abc.__globals__['a'] )\\nprint( abc.__globals__['b'] )\", '_i15': \"x = 10\\n\\ndef my_function():\\n    y = 20\\n    print( my_function.__globals__['x'])  # 모듈 수준의 전역 변수 x에 접근\\n    # print(__globals__['y'])  # 오류: 함수 내부의 지역 변수 y는 접근할 수 없음\\n    print( my_function.__locals__['y'])\\n\\nmy_function()\", 'x': 10, 'my_function': <function my_function at 0x105ff9af0>, '_i16': \"a = 5\\nb = 10\\ndef abc(x, y):\\n    print ('global symbol table:', globals())\\n    print ('local symbol table:', locals())\\n    return x + y\\n\\nprint( type(abc) )\", '_i17': 'class apple:\\n    pass\\n\\nprint( type(apple) )', '_i18': 'a = apple()\\nprint( type(a) )', '_i19': 'dir(abc) ', '_19': ['__annotations__', '__call__', '__class__', '__closure__', '__code__', '__defaults__', '__delattr__', '__dict__', '__dir__', '__doc__', '__eq__', '__format__', '__ge__', '__get__', '__getattribute__', '__globals__', '__gt__', '__hash__', '__init__', '__init_subclass__', '__kwdefaults__', '__le__', '__lt__', '__module__', '__name__', '__ne__', '__new__', '__qualname__', '__reduce__', '__reduce_ex__', '__repr__', '__setattr__', '__sizeof__', '__str__', '__subclasshook__'], '_i20': \"print( abc.__module__ )\\nprint( '' )\\nprint( abc.__globals__ )\", '_i21': \"globals()['abc']\", '_21': <function abc at 0x105ff9a60>, '_i22': \"locals()['abc']\", '_22': <function abc at 0x105ff9a60>, '_i23': \"locals()['abc']\", '_23': <function abc at 0x105ff9a60>, '_i24': 'abc(1,2)'}\n",
      "local symbol table: {'x': 1, 'y': 2}\n"
     ]
    },
    {
     "data": {
      "text/plain": [
       "3"
      ]
     },
     "execution_count": 24,
     "metadata": {},
     "output_type": "execute_result"
    }
   ],
   "source": [
    "abc(1,2)"
   ]
  },
  {
   "cell_type": "code",
   "execution_count": 27,
   "id": "414075b0-32d7-4eba-b348-fa1df62e5a03",
   "metadata": {},
   "outputs": [
    {
     "data": {
      "text/plain": [
       "10"
      ]
     },
     "execution_count": 27,
     "metadata": {},
     "output_type": "execute_result"
    }
   ],
   "source": [
    "abc.__globals__['b']"
   ]
  },
  {
   "cell_type": "code",
   "execution_count": 32,
   "id": "aa87fad4-6cbf-4f20-9d66-5f87b3f8c91f",
   "metadata": {},
   "outputs": [
    {
     "name": "stdout",
     "output_type": "stream",
     "text": [
      "<__main__.apple object at 0x1060385e0>\n",
      "10\n",
      "<class '__main__.apple'>\n",
      "<class 'int'>\n"
     ]
    }
   ],
   "source": [
    "print( abc.__globals__['a'] ) \n",
    "print( abc.__globals__['b'] )\n",
    "\n",
    "print( type( abc.__globals__['a'] ) ) # a = apple()\n",
    "print( type( abc.__globals__['b'] ) ) # b = 10"
   ]
  },
  {
   "cell_type": "code",
   "execution_count": 38,
   "id": "4f766a6c-afaf-4801-8319-487af64f23a6",
   "metadata": {},
   "outputs": [
    {
     "name": "stdout",
     "output_type": "stream",
     "text": [
      "{'__name__': '__main__', '__doc__': 'Automatically created module for IPython interactive environment', '__package__': None, '__loader__': None, '__spec__': None, '__builtin__': <module 'builtins' (built-in)>, '__builtins__': <module 'builtins' (built-in)>, '_ih': ['', 'source_code = \"\"\"\\n    if count > 10:\\n        print(\\'Count is greater than 10\\')\\n\"\"\"', '# 코드를 공백과 줄바꿈으로 토큰화\\ntokens = source_code.split()\\n\\n# 파싱 및 예약어 확인\\npython_reserved_keywords = [\\'if\\', \\'else\\', \\'for\\', \\'while\\', \\'print\\', \\'import\\', ...]  # 파이썬의 예약어 목록\\nbinary_address = []\\n\\nfor token in tokens:\\n    if token in python_reserved_keywords:\\n        binary_address.append(f\\'00{python_reserved_keywords.index(token):03b}\\')\\n    else:\\n        binary_address.append(f\\'01{len(token):04b}\\')\\n\\nbinary_address_str = \\'\\'.join(binary_address)\\nprint(f\"Binary Address: {binary_address_str}\")', 'a = 100; b = \"string\";\\nprint( type(a) )\\nprint( type(b) )', 'print( type(int) )\\nprint( type(str) )', 'a = 5\\nb = 10\\ndef abc(x, y):\\n    print( locals() )\\n    return x + y\\n\\nprint( type(abc) )', 'class apple:\\n    pass\\n\\nprint( type(apple) )', 'a = apple()\\nprint( type(a) )', 'dir(abc) ', \"print( abc.__module__ )\\nprint( '' )\\nprint( abc.__globals__ )\", \"globals()['abc']\", \"locals()['abc']\", 'abc(1,2)', \"abc.__globals__['b']\", \"print( abc.__globals__['a'] )\\nprint( abc.__globals__['b'] )\", \"x = 10\\n\\ndef my_function():\\n    y = 20\\n    print( my_function.__globals__['x'])  # 모듈 수준의 전역 변수 x에 접근\\n    # print(__globals__['y'])  # 오류: 함수 내부의 지역 변수 y는 접근할 수 없음\\n    print( my_function.__locals__['y'])\\n\\nmy_function()\", \"a = 5\\nb = 10\\ndef abc(x, y):\\n    print ('global symbol table:', globals())\\n    print ('local symbol table:', locals())\\n    return x + y\\n\\nprint( type(abc) )\", 'class apple:\\n    pass\\n\\nprint( type(apple) )', 'a = apple()\\nprint( type(a) )', 'dir(abc) ', \"print( abc.__module__ )\\nprint( '' )\\nprint( abc.__globals__ )\", \"globals()['abc']\", \"locals()['abc']\", \"locals()['abc']\", 'abc(1,2)', \"abc.__globals__['b']\", \"print( abc.__globals__['a'] )\\nprint( abc.__globals__['b'] )\", \"abc.__globals__['b']\", \"print( abc.__globals__['a'] )\\nprint( abc.__globals__['b'] )\", \"print( abc.__globals__['a'] ) \\nprint( abc.__globals__['b'] )\\n\\nprint( type( abc.__globals__['b'] ) )\\nprint( type( abc.__globals__['b'] ) )\", \"print( abc.__globals__['a'] ) \\nprint( abc.__globals__['b'] )\\n\\nprint( type( abc.__globals__['a'] ) )\\nprint( type( abc.__globals__['b'] ) )\", \"print( abc.__globals__['a'] ) \\nprint( abc.__globals__['b'] )\\n\\nprint( type( abc.__globals__['a'] ) )\\nprint( type( abc.__globals__['b'] ) )\", \"print( abc.__globals__['a'] ) \\nprint( abc.__globals__['b'] )\\n\\nprint( type( abc.__globals__['a'] ) ) # a = apple()\\nprint( type( abc.__globals__['b'] ) ) # b = 10\", \"x = 10\\n\\ndef my_function():\\n    y = 20\\n    print( my_function.__globals__['x'])  # 모듈 수준의 전역 변수 x에 접근\\n    # print(__globals__['y'])  # 오류: 함수 내부의 지역 변수 y는 접근할 수 없음\\n    print( my_function.__locals__['y'])\\n\\nmy_function()\", \"locals()['y']\", \"x = 10\\n\\ndef my_function():\\n    y = 20\\n    print( my_function.__globals__['x'])  # 모듈 수준의 전역 변수 x에 접근\\n    # print(__globals__['y'])  # 오류: 함수 내부의 지역 변수 y는 접근할 수 없음\\n    print( locals()['y'])\\n\\nmy_function()\", \"x = 10\\n\\ndef my_function():\\n    y = 20\\n    print( my_function.__globals__['x'])  # 모듈 수준의 전역 변수 x에 접근\\n    print( globals['x'])  # 모듈 수준의 전역 변수 x에 접근\\n    # print(__globals__['y'])  # 오류: 함수 내부의 지역 변수 y는 접근할 수 없음\\n    print( locals()['y'])\\n\\nmy_function()\", \"x = 10\\n\\ndef my_function():\\n    y = 20\\n    print( my_function.__globals__['x'])  # 모듈 수준의 전역 변수 x에 접근\\n    print( globals()['x'])  # 모듈 수준의 전역 변수 x에 접근\\n    # print(__globals__['y'])  # 오류: 함수 내부의 지역 변수 y는 접근할 수 없음\\n    print( locals()['y'])\\n\\nmy_function()\", 'print( abc.__globals__ ) '], '_oh': {8: ['__annotations__', '__call__', '__class__', '__closure__', '__code__', '__defaults__', '__delattr__', '__dict__', '__dir__', '__doc__', '__eq__', '__format__', '__ge__', '__get__', '__getattribute__', '__globals__', '__gt__', '__hash__', '__init__', '__init_subclass__', '__kwdefaults__', '__le__', '__lt__', '__module__', '__name__', '__ne__', '__new__', '__qualname__', '__reduce__', '__reduce_ex__', '__repr__', '__setattr__', '__sizeof__', '__str__', '__subclasshook__'], 10: <function abc at 0x10603e280>, 11: <function abc at 0x10603e280>, 12: 3, 13: 10, 19: ['__annotations__', '__call__', '__class__', '__closure__', '__code__', '__defaults__', '__delattr__', '__dict__', '__dir__', '__doc__', '__eq__', '__format__', '__ge__', '__get__', '__getattribute__', '__globals__', '__gt__', '__hash__', '__init__', '__init_subclass__', '__kwdefaults__', '__le__', '__lt__', '__module__', '__name__', '__ne__', '__new__', '__qualname__', '__reduce__', '__reduce_ex__', '__repr__', '__setattr__', '__sizeof__', '__str__', '__subclasshook__'], 21: <function abc at 0x105ff9a60>, 22: <function abc at 0x105ff9a60>, 23: <function abc at 0x105ff9a60>, 24: 3, 25: 10, 27: 10}, '_dh': [PosixPath('/Users/renee/my-workspace/python/basic/정리')], 'In': ['', 'source_code = \"\"\"\\n    if count > 10:\\n        print(\\'Count is greater than 10\\')\\n\"\"\"', '# 코드를 공백과 줄바꿈으로 토큰화\\ntokens = source_code.split()\\n\\n# 파싱 및 예약어 확인\\npython_reserved_keywords = [\\'if\\', \\'else\\', \\'for\\', \\'while\\', \\'print\\', \\'import\\', ...]  # 파이썬의 예약어 목록\\nbinary_address = []\\n\\nfor token in tokens:\\n    if token in python_reserved_keywords:\\n        binary_address.append(f\\'00{python_reserved_keywords.index(token):03b}\\')\\n    else:\\n        binary_address.append(f\\'01{len(token):04b}\\')\\n\\nbinary_address_str = \\'\\'.join(binary_address)\\nprint(f\"Binary Address: {binary_address_str}\")', 'a = 100; b = \"string\";\\nprint( type(a) )\\nprint( type(b) )', 'print( type(int) )\\nprint( type(str) )', 'a = 5\\nb = 10\\ndef abc(x, y):\\n    print( locals() )\\n    return x + y\\n\\nprint( type(abc) )', 'class apple:\\n    pass\\n\\nprint( type(apple) )', 'a = apple()\\nprint( type(a) )', 'dir(abc) ', \"print( abc.__module__ )\\nprint( '' )\\nprint( abc.__globals__ )\", \"globals()['abc']\", \"locals()['abc']\", 'abc(1,2)', \"abc.__globals__['b']\", \"print( abc.__globals__['a'] )\\nprint( abc.__globals__['b'] )\", \"x = 10\\n\\ndef my_function():\\n    y = 20\\n    print( my_function.__globals__['x'])  # 모듈 수준의 전역 변수 x에 접근\\n    # print(__globals__['y'])  # 오류: 함수 내부의 지역 변수 y는 접근할 수 없음\\n    print( my_function.__locals__['y'])\\n\\nmy_function()\", \"a = 5\\nb = 10\\ndef abc(x, y):\\n    print ('global symbol table:', globals())\\n    print ('local symbol table:', locals())\\n    return x + y\\n\\nprint( type(abc) )\", 'class apple:\\n    pass\\n\\nprint( type(apple) )', 'a = apple()\\nprint( type(a) )', 'dir(abc) ', \"print( abc.__module__ )\\nprint( '' )\\nprint( abc.__globals__ )\", \"globals()['abc']\", \"locals()['abc']\", \"locals()['abc']\", 'abc(1,2)', \"abc.__globals__['b']\", \"print( abc.__globals__['a'] )\\nprint( abc.__globals__['b'] )\", \"abc.__globals__['b']\", \"print( abc.__globals__['a'] )\\nprint( abc.__globals__['b'] )\", \"print( abc.__globals__['a'] ) \\nprint( abc.__globals__['b'] )\\n\\nprint( type( abc.__globals__['b'] ) )\\nprint( type( abc.__globals__['b'] ) )\", \"print( abc.__globals__['a'] ) \\nprint( abc.__globals__['b'] )\\n\\nprint( type( abc.__globals__['a'] ) )\\nprint( type( abc.__globals__['b'] ) )\", \"print( abc.__globals__['a'] ) \\nprint( abc.__globals__['b'] )\\n\\nprint( type( abc.__globals__['a'] ) )\\nprint( type( abc.__globals__['b'] ) )\", \"print( abc.__globals__['a'] ) \\nprint( abc.__globals__['b'] )\\n\\nprint( type( abc.__globals__['a'] ) ) # a = apple()\\nprint( type( abc.__globals__['b'] ) ) # b = 10\", \"x = 10\\n\\ndef my_function():\\n    y = 20\\n    print( my_function.__globals__['x'])  # 모듈 수준의 전역 변수 x에 접근\\n    # print(__globals__['y'])  # 오류: 함수 내부의 지역 변수 y는 접근할 수 없음\\n    print( my_function.__locals__['y'])\\n\\nmy_function()\", \"locals()['y']\", \"x = 10\\n\\ndef my_function():\\n    y = 20\\n    print( my_function.__globals__['x'])  # 모듈 수준의 전역 변수 x에 접근\\n    # print(__globals__['y'])  # 오류: 함수 내부의 지역 변수 y는 접근할 수 없음\\n    print( locals()['y'])\\n\\nmy_function()\", \"x = 10\\n\\ndef my_function():\\n    y = 20\\n    print( my_function.__globals__['x'])  # 모듈 수준의 전역 변수 x에 접근\\n    print( globals['x'])  # 모듈 수준의 전역 변수 x에 접근\\n    # print(__globals__['y'])  # 오류: 함수 내부의 지역 변수 y는 접근할 수 없음\\n    print( locals()['y'])\\n\\nmy_function()\", \"x = 10\\n\\ndef my_function():\\n    y = 20\\n    print( my_function.__globals__['x'])  # 모듈 수준의 전역 변수 x에 접근\\n    print( globals()['x'])  # 모듈 수준의 전역 변수 x에 접근\\n    # print(__globals__['y'])  # 오류: 함수 내부의 지역 변수 y는 접근할 수 없음\\n    print( locals()['y'])\\n\\nmy_function()\", 'print( abc.__globals__ ) '], 'Out': {8: ['__annotations__', '__call__', '__class__', '__closure__', '__code__', '__defaults__', '__delattr__', '__dict__', '__dir__', '__doc__', '__eq__', '__format__', '__ge__', '__get__', '__getattribute__', '__globals__', '__gt__', '__hash__', '__init__', '__init_subclass__', '__kwdefaults__', '__le__', '__lt__', '__module__', '__name__', '__ne__', '__new__', '__qualname__', '__reduce__', '__reduce_ex__', '__repr__', '__setattr__', '__sizeof__', '__str__', '__subclasshook__'], 10: <function abc at 0x10603e280>, 11: <function abc at 0x10603e280>, 12: 3, 13: 10, 19: ['__annotations__', '__call__', '__class__', '__closure__', '__code__', '__defaults__', '__delattr__', '__dict__', '__dir__', '__doc__', '__eq__', '__format__', '__ge__', '__get__', '__getattribute__', '__globals__', '__gt__', '__hash__', '__init__', '__init_subclass__', '__kwdefaults__', '__le__', '__lt__', '__module__', '__name__', '__ne__', '__new__', '__qualname__', '__reduce__', '__reduce_ex__', '__repr__', '__setattr__', '__sizeof__', '__str__', '__subclasshook__'], 21: <function abc at 0x105ff9a60>, 22: <function abc at 0x105ff9a60>, 23: <function abc at 0x105ff9a60>, 24: 3, 25: 10, 27: 10}, 'get_ipython': <bound method InteractiveShell.get_ipython of <ipykernel.zmqshell.ZMQInteractiveShell object at 0x105d32ca0>>, 'exit': <IPython.core.autocall.ZMQExitAutocall object at 0x105d448e0>, 'quit': <IPython.core.autocall.ZMQExitAutocall object at 0x105d448e0>, 'open': <function open at 0x1049a1b80>, '_': 10, '__': 10, '___': 3, '__session__': '/Users/renee/my-workspace/python/basic/정리/Untitled.ipynb', '_i': \"x = 10\\n\\ndef my_function():\\n    y = 20\\n    print( my_function.__globals__['x'])  # 모듈 수준의 전역 변수 x에 접근\\n    print( globals()['x'])  # 모듈 수준의 전역 변수 x에 접근\\n    # print(__globals__['y'])  # 오류: 함수 내부의 지역 변수 y는 접근할 수 없음\\n    print( locals()['y'])\\n\\nmy_function()\", '_ii': \"x = 10\\n\\ndef my_function():\\n    y = 20\\n    print( my_function.__globals__['x'])  # 모듈 수준의 전역 변수 x에 접근\\n    print( globals['x'])  # 모듈 수준의 전역 변수 x에 접근\\n    # print(__globals__['y'])  # 오류: 함수 내부의 지역 변수 y는 접근할 수 없음\\n    print( locals()['y'])\\n\\nmy_function()\", '_iii': \"x = 10\\n\\ndef my_function():\\n    y = 20\\n    print( my_function.__globals__['x'])  # 모듈 수준의 전역 변수 x에 접근\\n    # print(__globals__['y'])  # 오류: 함수 내부의 지역 변수 y는 접근할 수 없음\\n    print( locals()['y'])\\n\\nmy_function()\", '_i1': 'source_code = \"\"\"\\n    if count > 10:\\n        print(\\'Count is greater than 10\\')\\n\"\"\"', 'source_code': \"\\n    if count > 10:\\n        print('Count is greater than 10')\\n\", '_i2': '# 코드를 공백과 줄바꿈으로 토큰화\\ntokens = source_code.split()\\n\\n# 파싱 및 예약어 확인\\npython_reserved_keywords = [\\'if\\', \\'else\\', \\'for\\', \\'while\\', \\'print\\', \\'import\\', ...]  # 파이썬의 예약어 목록\\nbinary_address = []\\n\\nfor token in tokens:\\n    if token in python_reserved_keywords:\\n        binary_address.append(f\\'00{python_reserved_keywords.index(token):03b}\\')\\n    else:\\n        binary_address.append(f\\'01{len(token):04b}\\')\\n\\nbinary_address_str = \\'\\'.join(binary_address)\\nprint(f\"Binary Address: {binary_address_str}\")', 'tokens': ['if', 'count', '>', '10:', \"print('Count\", 'is', 'greater', 'than', \"10')\"], 'python_reserved_keywords': ['if', 'else', 'for', 'while', 'print', 'import', Ellipsis], 'binary_address': ['00000', '010101', '010001', '010011', '011100', '010010', '010111', '010100', '010100'], 'token': \"10')\", 'binary_address_str': '00000010101010001010011011100010010010111010100010100', '_i3': 'a = 100; b = \"string\";\\nprint( type(a) )\\nprint( type(b) )', 'a': <__main__.apple object at 0x1060385e0>, 'b': 10, '_i4': 'print( type(int) )\\nprint( type(str) )', '_i5': 'a = 5\\nb = 10\\ndef abc(x, y):\\n    print( locals() )\\n    return x + y\\n\\nprint( type(abc) )', 'abc': <function abc at 0x105ff9a60>, '_i6': 'class apple:\\n    pass\\n\\nprint( type(apple) )', 'apple': <class '__main__.apple'>, '_i7': 'a = apple()\\nprint( type(a) )', '_i8': 'dir(abc) ', '_8': ['__annotations__', '__call__', '__class__', '__closure__', '__code__', '__defaults__', '__delattr__', '__dict__', '__dir__', '__doc__', '__eq__', '__format__', '__ge__', '__get__', '__getattribute__', '__globals__', '__gt__', '__hash__', '__init__', '__init_subclass__', '__kwdefaults__', '__le__', '__lt__', '__module__', '__name__', '__ne__', '__new__', '__qualname__', '__reduce__', '__reduce_ex__', '__repr__', '__setattr__', '__sizeof__', '__str__', '__subclasshook__'], '_i9': \"print( abc.__module__ )\\nprint( '' )\\nprint( abc.__globals__ )\", '_i10': \"globals()['abc']\", '_10': <function abc at 0x10603e280>, '_i11': \"locals()['abc']\", '_11': <function abc at 0x10603e280>, '_i12': 'abc(1,2)', '_12': 3, '_i13': \"abc.__globals__['b']\", '_13': 10, '_i14': \"print( abc.__globals__['a'] )\\nprint( abc.__globals__['b'] )\", '_i15': \"x = 10\\n\\ndef my_function():\\n    y = 20\\n    print( my_function.__globals__['x'])  # 모듈 수준의 전역 변수 x에 접근\\n    # print(__globals__['y'])  # 오류: 함수 내부의 지역 변수 y는 접근할 수 없음\\n    print( my_function.__locals__['y'])\\n\\nmy_function()\", 'x': 10, 'my_function': <function my_function at 0x106c235e0>, '_i16': \"a = 5\\nb = 10\\ndef abc(x, y):\\n    print ('global symbol table:', globals())\\n    print ('local symbol table:', locals())\\n    return x + y\\n\\nprint( type(abc) )\", '_i17': 'class apple:\\n    pass\\n\\nprint( type(apple) )', '_i18': 'a = apple()\\nprint( type(a) )', '_i19': 'dir(abc) ', '_19': ['__annotations__', '__call__', '__class__', '__closure__', '__code__', '__defaults__', '__delattr__', '__dict__', '__dir__', '__doc__', '__eq__', '__format__', '__ge__', '__get__', '__getattribute__', '__globals__', '__gt__', '__hash__', '__init__', '__init_subclass__', '__kwdefaults__', '__le__', '__lt__', '__module__', '__name__', '__ne__', '__new__', '__qualname__', '__reduce__', '__reduce_ex__', '__repr__', '__setattr__', '__sizeof__', '__str__', '__subclasshook__'], '_i20': \"print( abc.__module__ )\\nprint( '' )\\nprint( abc.__globals__ )\", '_i21': \"globals()['abc']\", '_21': <function abc at 0x105ff9a60>, '_i22': \"locals()['abc']\", '_22': <function abc at 0x105ff9a60>, '_i23': \"locals()['abc']\", '_23': <function abc at 0x105ff9a60>, '_i24': 'abc(1,2)', '_24': 3, '_i25': \"abc.__globals__['b']\", '_25': 10, '_i26': \"print( abc.__globals__['a'] )\\nprint( abc.__globals__['b'] )\", '_i27': \"abc.__globals__['b']\", '_27': 10, '_i28': \"print( abc.__globals__['a'] )\\nprint( abc.__globals__['b'] )\", '_i29': \"print( abc.__globals__['a'] ) \\nprint( abc.__globals__['b'] )\\n\\nprint( type( abc.__globals__['b'] ) )\\nprint( type( abc.__globals__['b'] ) )\", '_i30': \"print( abc.__globals__['a'] ) \\nprint( abc.__globals__['b'] )\\n\\nprint( type( abc.__globals__['a'] ) )\\nprint( type( abc.__globals__['b'] ) )\", '_i31': \"print( abc.__globals__['a'] ) \\nprint( abc.__globals__['b'] )\\n\\nprint( type( abc.__globals__['a'] ) )\\nprint( type( abc.__globals__['b'] ) )\", '_i32': \"print( abc.__globals__['a'] ) \\nprint( abc.__globals__['b'] )\\n\\nprint( type( abc.__globals__['a'] ) ) # a = apple()\\nprint( type( abc.__globals__['b'] ) ) # b = 10\", '_i33': \"x = 10\\n\\ndef my_function():\\n    y = 20\\n    print( my_function.__globals__['x'])  # 모듈 수준의 전역 변수 x에 접근\\n    # print(__globals__['y'])  # 오류: 함수 내부의 지역 변수 y는 접근할 수 없음\\n    print( my_function.__locals__['y'])\\n\\nmy_function()\", '_i34': \"locals()['y']\", '_i35': \"x = 10\\n\\ndef my_function():\\n    y = 20\\n    print( my_function.__globals__['x'])  # 모듈 수준의 전역 변수 x에 접근\\n    # print(__globals__['y'])  # 오류: 함수 내부의 지역 변수 y는 접근할 수 없음\\n    print( locals()['y'])\\n\\nmy_function()\", '_i36': \"x = 10\\n\\ndef my_function():\\n    y = 20\\n    print( my_function.__globals__['x'])  # 모듈 수준의 전역 변수 x에 접근\\n    print( globals['x'])  # 모듈 수준의 전역 변수 x에 접근\\n    # print(__globals__['y'])  # 오류: 함수 내부의 지역 변수 y는 접근할 수 없음\\n    print( locals()['y'])\\n\\nmy_function()\", '_i37': \"x = 10\\n\\ndef my_function():\\n    y = 20\\n    print( my_function.__globals__['x'])  # 모듈 수준의 전역 변수 x에 접근\\n    print( globals()['x'])  # 모듈 수준의 전역 변수 x에 접근\\n    # print(__globals__['y'])  # 오류: 함수 내부의 지역 변수 y는 접근할 수 없음\\n    print( locals()['y'])\\n\\nmy_function()\", '_i38': 'print( abc.__globals__ ) '}\n"
     ]
    }
   ],
   "source": [
    "print( abc.__globals__ ) "
   ]
  },
  {
   "cell_type": "code",
   "execution_count": null,
   "id": "c21e6bbd-826d-4ab1-a951-1492bf1e52c2",
   "metadata": {},
   "outputs": [],
   "source": []
  },
  {
   "cell_type": "code",
   "execution_count": 39,
   "id": "23cc4e59-093a-4a07-8033-3e8bec9675da",
   "metadata": {},
   "outputs": [
    {
     "name": "stdout",
     "output_type": "stream",
     "text": [
      "10\n",
      "10\n",
      "20\n"
     ]
    }
   ],
   "source": [
    "x = 10\n",
    "\n",
    "def my_function():\n",
    "    y = 20\n",
    "    print( my_function.__globals__['x'])  # 모듈 수준의 전역 변수 x에 접근\n",
    "    print( globals()['x'])  # 모듈 수준의 전역 변수 x에 접근\n",
    "    # print(__globals__['y'])  # 오류: 함수 내부의 지역 변수 y는 접근할 수 없음\n",
    "    print( locals()['y'])\n",
    "\n",
    "my_function()\n"
   ]
  },
  {
   "cell_type": "code",
   "execution_count": null,
   "id": "1739c255-35ef-4669-a45e-f9340b36727a",
   "metadata": {},
   "outputs": [],
   "source": []
  },
  {
   "cell_type": "code",
   "execution_count": null,
   "id": "a1540b0b-d67a-4804-975f-e07a70ee38ab",
   "metadata": {},
   "outputs": [],
   "source": []
  },
  {
   "cell_type": "code",
   "execution_count": null,
   "id": "1a046bf7-c20c-48d1-bab2-03910ff20fc0",
   "metadata": {},
   "outputs": [],
   "source": [
    "dir(apple)"
   ]
  },
  {
   "cell_type": "code",
   "execution_count": null,
   "id": "fed89cb0-f4c5-4617-8de5-66b3acc035ca",
   "metadata": {},
   "outputs": [],
   "source": []
  },
  {
   "cell_type": "code",
   "execution_count": null,
   "id": "f4686c15-d68e-42ed-9d0b-43fec28b5eca",
   "metadata": {},
   "outputs": [],
   "source": [
    "# 식별자 = 값\n",
    "var = 100"
   ]
  },
  {
   "cell_type": "markdown",
   "id": "9a1d7202-7f19-40f0-ae30-43dfde114873",
   "metadata": {},
   "source": [
    "- 메모리에 저장되면, 값이 저장되고 주소가 생긴다. 식별자는 주소를 가리킨다.\n",
    "- 식별자는 컴파일 할 때 논리적으로 필요하며 물리적으로는 바이너리에서는 주소값으로만 본다. "
   ]
  },
  {
   "cell_type": "markdown",
   "id": "19325a50-59e8-436f-9b70-d6f45c76063a",
   "metadata": {},
   "source": [
    "#### 이름을 관리하는 공간 : 네임스페이스(namespace)"
   ]
  },
  {
   "cell_type": "markdown",
   "id": "e30d26ac-ec6b-46f5-858a-b86d9a89781b",
   "metadata": {},
   "source": [
    "- 모든 식별자는 이름이다. 자바는 네임스페이스가 여러개라 개별적으로 관리\n",
    "- 파이썬은 패키지/ 모듈/ 클래스/ 함수 /컴프리헨션 이 네임스페이스를 가지고 있다.\n",
    "- 파이썬에 블럭은 존재하지 않는다.\n",
    "- 함수와 컴프리헨션은 지역. 모듈, 패키지는 자동으로 정해진다.\n",
    "- 객체와 클래스는 별도 이다."
   ]
  },
  {
   "cell_type": "code",
   "execution_count": null,
   "id": "20a75511-15fb-40ed-9fb5-d819b1d3553a",
   "metadata": {},
   "outputs": [],
   "source": []
  },
  {
   "cell_type": "markdown",
   "id": "382f0a54-07c2-47bd-8329-e622fd819d54",
   "metadata": {},
   "source": [
    "#### 식별자 관리와 Look-up Table/Hashmap\n",
    "- 식별자(Identifier)를 관리하기 위해 Look-up Table 또는 Hashmap을 사용할 수 있습니다.\n",
    "- 이러한 데이터 구조는 식별자와 그에 대응하는 값 또는 정보를 저장하고 검색하는 데 사용됩니다. "
   ]
  },
  {
   "cell_type": "markdown",
   "id": "7d438c02-9860-4fac-853a-452dab92edb3",
   "metadata": {},
   "source": [
    "식별자를 관리하려면 특정 키(예: 변수 이름)와 해당 값을 연결하는 방식으로 Look-up Table 또는 Hashmap을 사용할 수 있습니다.<br>\n",
    "코드에서 식별자를 검색하거나 설정할 때 효율적으로 사용됩니다. <br>\n",
    "예를 들어, 프로그래밍 언어 컴파일러나 인터프리터 내부에서 식별자와 해당 스코프(scope)를 관리하고, 이를 Look-up Table 또는 Hashmap을 사용하여 구현할 수 있습니다.<br>\n",
    "\n",
    "일반적으로 Look-up Table과 Hashmap은 데이터 검색 및 업데이트의 효율성을 높이기 위해 많이 사용되며, <br>\n",
    "이러한 자료 구조는 식별자 관리뿐만 아니라 다양한 다른 응용 프로그램에도 사용됩니다."
   ]
  },
  {
   "cell_type": "code",
   "execution_count": null,
   "id": "2e74494a-7e8b-423e-96b5-345636f43420",
   "metadata": {},
   "outputs": [],
   "source": []
  },
  {
   "cell_type": "markdown",
   "id": "c665bb36-4d79-42e1-ac22-a82daa8bf216",
   "metadata": {},
   "source": [
    "#### 네임스페이스(namespace)"
   ]
  },
  {
   "cell_type": "markdown",
   "id": "6869e056-bd13-4f0f-a1b4-e984e1f2017a",
   "metadata": {},
   "source": [
    "- 파이썬은 네임스페이스를 `__dict__`로 가지고 있다.\n",
    "- 자바스크립트는 prototype 로 가지고 있다.\n",
    "\n",
    "~.속성 하면\n",
    "- 밑에서부터 위로 올라가는것은 버블링\n",
    "- 위에서부터 밑으로 내려오면 캐스케이딩\n",
    "\n",
    "파이썬은 ~.하면 나를만든 클래스 에서부터 찾는다.<br>\n",
    "만약, 클래스에 __getattribute__가 지정되어있지 않으면 상위, 최상위는 object로 찾아 올라간다.\n",
    "\n",
    "모든 연산자는 메서드이다. <br>\n",
    "객체지향에서는 연산자가 존재하지 않는다. <br>\n",
    "표기법은 내장표기법 (리터럴표기법) 이라고 한다."
   ]
  },
  {
   "cell_type": "markdown",
   "id": "2231ec43-8c14-4726-9aa4-7956c9a35a89",
   "metadata": {},
   "source": [
    "<b>리터럴표기법 ?</b> <br>\n",
    "- 1 <- 리터럴표기법\n",
    "- int('1') <- 생성자표기법\n"
   ]
  },
  {
   "cell_type": "markdown",
   "id": "eddbace8-95ac-450d-80c5-83740e3deb9a",
   "metadata": {},
   "source": [
    "일반적으로 객체정의를 했을 때 기본적인것만 리터럴표기법으로 나타내고<br>\n",
    "나머지는 생성자표기법으로 객체를 생성해준다 => 객체와 클래스간의 스코프 만들어짐(모든 연관관계 로딩)<br>\n",
    "__dict__를 물어서 관계가 만들어진다."
   ]
  },
  {
   "cell_type": "code",
   "execution_count": null,
   "id": "87086513-c0f6-4630-8f3f-eef303f9820c",
   "metadata": {},
   "outputs": [],
   "source": []
  },
  {
   "cell_type": "markdown",
   "id": "ef6a8219-5902-4f92-932c-8e959f1c885c",
   "metadata": {},
   "source": [
    "#### 재정의\n",
    "- 한곳 : 오버로딩(overloading)\n",
    "- 상속 : 오버라이딩(overriding)\n",
    "\n",
    "폴리머피즘의 다른말 = 식별자 규칙"
   ]
  },
  {
   "cell_type": "markdown",
   "id": "fc0272ef-dd26-4e3d-a4c1-26881e0e62e5",
   "metadata": {},
   "source": [
    "#### 파이썬 오버로딩 ? 불가\n",
    "- 이름만 갖기때문에 오버로딩(overloading)이 불가능하다.\n",
    "  \n",
    "=> overload 또는 multipledispatch 등의 모듈을 사용해서 오버로딩이 가능하다.\n",
    "- {(int, int): 함수} 등 여러개 등록하여 구별한다. 시그니처를 키로 등록한다.<br>\n",
    "\n",
    "<b>오버로딩 규칙\n",
    "- 갯수가 같으면 타입이 달라야 하고\n",
    "- 갯수가 같으면 자료형이 달라야 한다."
   ]
  },
  {
   "cell_type": "code",
   "execution_count": null,
   "id": "d52c8bf9-85ba-47c7-a3f0-a28907b18908",
   "metadata": {},
   "outputs": [],
   "source": []
  },
  {
   "cell_type": "code",
   "execution_count": null,
   "id": "c83c662c-0876-4e0b-8ebb-a1d6cae7e275",
   "metadata": {},
   "outputs": [],
   "source": []
  },
  {
   "cell_type": "markdown",
   "id": "99915999-8023-438b-9e04-28a64516c809",
   "metadata": {},
   "source": [
    "## 파이썬스럽게 코드 작성하기\n",
    "\n",
    "파이썬스럽게 짜려면 클래스 속성부터 참조해야 한다.<br>\n",
    "접근제어가 없기때문에, 접근제어를 하기 위해 클래스 속성에 숨겨져 프로퍼티로 읽어야한다.<br> "
   ]
  },
  {
   "cell_type": "markdown",
   "id": "e4cebd01-be52-48d5-9d91-b850f4a2fd46",
   "metadata": {},
   "source": [
    "### 1. 디스크립터 메커니즘"
   ]
  },
  {
   "cell_type": "markdown",
   "id": "437a6b05-8d57-4461-b1e8-0362790f6e1e",
   "metadata": {},
   "source": [
    "- 디스크립터는 단지 디스크립터 프로토콜을 구현한 클래스의 인스턴스이다.\n",
    "- 디스크립터 프로토콜\n",
    "    - `__get__`\n",
    "    - `__set__`\n",
    "    - `__delete__`\n",
    "    - `__set_name__`\n",
    "- 디스크립터 클래스는 위 매직 메서드 중 한 개 이상을 포함해야 한다.\n",
    "- 이 프로토콜이 제대로 동작하려면 <u>디스크립터 객체는 인스턴스 속성이 아닌 클래스 속성으로 정의</u>되어야 한다.\n",
    "- 클라이언트 클래스 내부에 클래스 속성을 객체로 선언하면 디스크립터로 인식되고, 인스턴스에서 디스크립터 속성을 호출하면 __get__ 매직 메서드의 결과를 반환한다."
   ]
  },
  {
   "cell_type": "code",
   "execution_count": 44,
   "id": "e2804bda-7661-46cf-8c2a-3786316d131d",
   "metadata": {},
   "outputs": [],
   "source": [
    "class DescriptorClass:\n",
    "    def __get__(self, instance, owner):\n",
    "        if instance is None:\n",
    "            return self\n",
    "        print(\"Call: %s.__get__(%r, %r)\", self.__class__.__name__, instance, owner)\n",
    "        return instance\n",
    "    \n",
    "class ClientClass:\n",
    "    descriptor = DescriptorClass()"
   ]
  },
  {
   "cell_type": "code",
   "execution_count": 45,
   "id": "5939c606-3d48-4363-8312-308081fe139e",
   "metadata": {},
   "outputs": [
    {
     "name": "stdout",
     "output_type": "stream",
     "text": [
      "Call: %s.__get__(%r, %r) DescriptorClass <__main__.ClientClass object at 0x10634adc0> <class '__main__.ClientClass'>\n"
     ]
    },
    {
     "data": {
      "text/plain": [
       "<__main__.ClientClass at 0x10634adc0>"
      ]
     },
     "execution_count": 45,
     "metadata": {},
     "output_type": "execute_result"
    }
   ],
   "source": [
    "client = ClientClass()\n",
    "client.descriptor"
   ]
  },
  {
   "cell_type": "code",
   "execution_count": null,
   "id": "0e942b3a-fb62-4020-9623-6112e4c1ee7b",
   "metadata": {},
   "outputs": [],
   "source": []
  },
  {
   "cell_type": "code",
   "execution_count": null,
   "id": "a8728e82-4be9-4d75-96b1-aa7ad5a99799",
   "metadata": {},
   "outputs": [],
   "source": []
  },
  {
   "cell_type": "markdown",
   "id": "2aca61ec-ecb0-459a-af0f-a1271e974425",
   "metadata": {},
   "source": [
    "### 속성\n",
    "\n",
    "아래 용어는 둘 다 속성이라고 불리지만 그 의미에 차이가 있다.\n",
    "#### attribute : field\n",
    "#### property : getter/setter로 접근"
   ]
  },
  {
   "cell_type": "code",
   "execution_count": null,
   "id": "2884cbfe-82f4-4ff4-8bda-991a4d41b825",
   "metadata": {},
   "outputs": [],
   "source": []
  },
  {
   "cell_type": "markdown",
   "id": "933e0b30-06ae-4864-a294-a3862fa43c2f",
   "metadata": {},
   "source": [
    "#### 생성관계 / 상속관계"
   ]
  },
  {
   "cell_type": "markdown",
   "id": "51ef373a-055c-4bc8-9b69-24cb9647053a",
   "metadata": {},
   "source": [
    "..."
   ]
  },
  {
   "cell_type": "code",
   "execution_count": null,
   "id": "2bea4933-b274-45d1-8412-a6dc84440753",
   "metadata": {},
   "outputs": [],
   "source": []
  },
  {
   "cell_type": "markdown",
   "id": "d00f606c-8297-484e-8c36-f7e01eacbe21",
   "metadata": {},
   "source": [
    "### 파이썬, 자바스크립트, 자바의 최상위 객체(object)"
   ]
  },
  {
   "cell_type": "markdown",
   "id": "3538a982-aef5-4f29-9ed6-3a33a80cb924",
   "metadata": {},
   "source": [
    "#### 1. 파이썬 (Python):\n",
    "\n",
    "파이썬에서는 최상위 객체는 object 클래스입니다.\n",
    "모든 클래스는 object 클래스를 상속하며, 파이썬의 모든 객체는 object 클래스의 인스턴스입니다.\n",
    "object 클래스는 파이썬 객체의 기본 메서드를 정의하며, 모든 파이썬 클래스에서 이를 상속받습니다."
   ]
  },
  {
   "cell_type": "code",
   "execution_count": 46,
   "id": "93fb20c5-c653-4a8c-a7a7-0361d0f33794",
   "metadata": {},
   "outputs": [
    {
     "name": "stdout",
     "output_type": "stream",
     "text": [
      "True\n"
     ]
    }
   ],
   "source": [
    "class MyClass:\n",
    "    pass\n",
    "\n",
    "obj = MyClass()\n",
    "print(isinstance(obj, object))  # True\n"
   ]
  },
  {
   "cell_type": "markdown",
   "id": "4ce9e0e2-0af6-44f6-9a7b-2ce638c0d549",
   "metadata": {},
   "source": [
    "#### 2. 자바스크립트 (JavaScript):\n",
    "\n",
    "자바스크립트에서는 최상위 객체는 Object입니다.\n",
    "모든 객체는 Object를 상속하며, Object 객체의 메서드와 속성을 사용할 수 있습니다. <br>\n",
    "Object는 자바스크립트 객체의 기본 프로토타입입니다."
   ]
  },
  {
   "cell_type": "markdown",
   "id": "fd21fb4a-1a99-48fd-9931-a6d7eaaa9819",
   "metadata": {},
   "source": [
    "var myObject = {}; <br>\n",
    "console.log(myObject instanceof Object);  // true"
   ]
  },
  {
   "cell_type": "markdown",
   "id": "8caf61d6-7d38-491b-b7bf-87e910880dd0",
   "metadata": {},
   "source": [
    "#### 3. 자바 (Java):\n",
    "\n",
    "자바에서는 최상위 객체는 java.lang.Object 클래스입니다. <br>\n",
    "모든 클래스는 Object 클래스를 암묵적으로 상속받으며, 자바의 모든 객체는 Object 클래스의 인스턴스입니다. <br>\n",
    "Object 클래스는 자바 객체의 메서드를 정의하며, 모든 자바 클래스에서 이를 상속받습니다."
   ]
  },
  {
   "cell_type": "markdown",
   "id": "7e17f9f4-78a3-4cde-850f-1d97846d396e",
   "metadata": {},
   "source": [
    "public class MyClass { <br>\n",
    "    public static void main(String[] args) {<br>\n",
    "        MyClass obj = new MyClass();<br>\n",
    "        System.out.println(obj instanceof Object);  // true<br>\n",
    "    }<br>\n",
    "}"
   ]
  },
  {
   "cell_type": "code",
   "execution_count": null,
   "id": "803f8e55-f300-43f1-b100-489c5b350ef3",
   "metadata": {},
   "outputs": [],
   "source": []
  },
  {
   "cell_type": "markdown",
   "id": "111b63d9-63f2-45b6-b779-c7887dbfef0a",
   "metadata": {},
   "source": [
    "#### ?\n",
    "스코프의 상속관계 바인딩을 자바나 파이썬은 상속하는 순간 만들어 바인딩해준다.<br>\n",
    "자바스크립트는 바인딩, 프로토타입 연계가 되지 않기때문에 object. 읽어서 처리해주어야 한다."
   ]
  },
  {
   "cell_type": "code",
   "execution_count": null,
   "id": "32a5a794-59ca-4c5b-8c39-c49b2aa8ec3b",
   "metadata": {},
   "outputs": [],
   "source": []
  },
  {
   "cell_type": "markdown",
   "id": "cbd7cbd4-3cef-4b16-89f9-4b6c6420f557",
   "metadata": {},
   "source": [
    "### 2. 데코레이터(decorator)"
   ]
  },
  {
   "cell_type": "markdown",
   "id": "bc22da7f-65ad-4ee4-bc4c-f0bffef7fcd8",
   "metadata": {},
   "source": [
    "#### * 리팩토링의 원칙, 유지보수의 핵심 : 고치지 말고 추가하자"
   ]
  },
  {
   "cell_type": "code",
   "execution_count": null,
   "id": "13f3106a-bd1b-4120-9f90-b3812c7c6cfd",
   "metadata": {},
   "outputs": [],
   "source": []
  },
  {
   "cell_type": "markdown",
   "id": "69d22fbf-fbd5-4bb1-ab76-e1fb8fb5146f",
   "metadata": {},
   "source": [
    "### 클로저(closure)\n",
    "\n",
    "#### - free variable\n",
    "#### - capture "
   ]
  },
  {
   "cell_type": "markdown",
   "id": "f8a7c8b0-28e2-40ee-9899-9e631e6928fd",
   "metadata": {},
   "source": [
    "- 함수가 정의되면 지역(local scope)는 블랙박스 즉 클로저 상태이다\n",
    "- 단, 함수안에 정의된 함수가 밖으로 반환되면 어떻게 되는 것일까?"
   ]
  },
  {
   "cell_type": "code",
   "execution_count": 90,
   "id": "1035b4df-324c-46fb-851c-59b418143d65",
   "metadata": {},
   "outputs": [
    {
     "name": "stdout",
     "output_type": "stream",
     "text": [
      "(200,)\n"
     ]
    },
    {
     "data": {
      "text/plain": [
       "1000"
      ]
     },
     "execution_count": 90,
     "metadata": {},
     "output_type": "execute_result"
    }
   ],
   "source": [
    "def outer(var):\n",
    "    def inner(*args):\n",
    "        print(args)\n",
    "        return var\n",
    "    return inner\n",
    "\n",
    "o = outer(1000)      \n",
    "o(200)"
   ]
  },
  {
   "cell_type": "code",
   "execution_count": 91,
   "id": "3127aa7e-4113-4c8f-90cf-84c94662650b",
   "metadata": {},
   "outputs": [
    {
     "data": {
      "text/plain": [
       "30"
      ]
     },
     "execution_count": 91,
     "metadata": {},
     "output_type": "execute_result"
    }
   ],
   "source": [
    "def outer(var):\n",
    "    def inner():\n",
    "        return var\n",
    "    return inner\n",
    "\n",
    "o = outer(30)\n",
    "o()"
   ]
  },
  {
   "cell_type": "code",
   "execution_count": 77,
   "id": "88d1930c-d421-4c94-bc31-2f09f2dfc5de",
   "metadata": {},
   "outputs": [
    {
     "name": "stdout",
     "output_type": "stream",
     "text": [
      "<function outer.<locals>.inner at 0x106d6a9d0>\n"
     ]
    }
   ],
   "source": [
    "print( o )"
   ]
  },
  {
   "cell_type": "markdown",
   "id": "45e89bc3-0f47-4b8e-ad19-27c814716e37",
   "metadata": {},
   "source": [
    "<b>var가 free variable 이다. <br>\n",
    "outer 외부함수에서 free되었다. inner입장에선 capture 하며 closure가 발생한다.<br>\n",
    "(보이면 안되는 내부지역변수를 외부로 반환해버린다.)"
   ]
  },
  {
   "cell_type": "markdown",
   "id": "d809e7a8-31b1-4f03-b00b-de025418c6cb",
   "metadata": {},
   "source": [
    "<b><br>클로저환경이 구성되게 되면,<br>inner.__closure__를 보면 캡처된 자유변수가 들어가있다."
   ]
  },
  {
   "cell_type": "code",
   "execution_count": 116,
   "id": "988c5683-3349-4120-98e2-ffc4406f271c",
   "metadata": {},
   "outputs": [
    {
     "data": {
      "text/plain": [
       "(<cell at 0x106156a90: int object at 0x102d82cd0>,)"
      ]
     },
     "execution_count": 116,
     "metadata": {},
     "output_type": "execute_result"
    }
   ],
   "source": [
    "o.__closure__"
   ]
  },
  {
   "cell_type": "code",
   "execution_count": null,
   "id": "2f532a3b-f4ca-40f4-b354-45980174ad84",
   "metadata": {},
   "outputs": [],
   "source": []
  },
  {
   "cell_type": "code",
   "execution_count": null,
   "id": "601abfb6-9550-41be-95aa-cf69e8bfe83d",
   "metadata": {},
   "outputs": [],
   "source": [
    " "
   ]
  },
  {
   "cell_type": "markdown",
   "id": "fc1161a8-8709-453a-bf33-8f27e0925782",
   "metadata": {},
   "source": [
    "### 데코레이터(Decorator)"
   ]
  },
  {
   "cell_type": "markdown",
   "id": "65af6681-8231-4bdb-8baa-ae37e8b5a0a8",
   "metadata": {},
   "source": [
    "함수나 메서드를 수정하거나 확장하는 데 사용되는 강력한 도구입니다.<br>\n",
    "데코레이터는 함수를 인자로 받아 해당 함수의 동작을 변경하거나 추가 기능을 적용합니다. "
   ]
  },
  {
   "cell_type": "markdown",
   "id": "e5aed95a-e2bc-4c8f-9fdf-7bf67277534e",
   "metadata": {},
   "source": [
    "#### 특징\n",
    "1. 클로저\n",
    "2. 자유변수 : 함수\n",
    "3. 자유변수 갯수 : 1개\n",
    "자유변수가 함수이면서 무조건 1개 이다.\n",
    "4. 기능 내부 추가\n",
    "5. inner함수로 인자를 전달받음"
   ]
  },
  {
   "cell_type": "markdown",
   "id": "9fc61afa-df28-4374-ad4c-94586e6246f3",
   "metadata": {},
   "source": [
    " "
   ]
  },
  {
   "cell_type": "code",
   "execution_count": 117,
   "id": "4f988e3e-f7d5-4a35-92d4-f17a5dae72f9",
   "metadata": {},
   "outputs": [],
   "source": [
    "def decorator(func):\n",
    "    def inner(*args, **kargs):\n",
    "        print(\"lalalalala\")\n",
    "        return func(*args, **kargs)\n",
    "    return inner"
   ]
  },
  {
   "cell_type": "code",
   "execution_count": 118,
   "id": "49ba9b2f-1de2-44ce-9622-9572ac0ab709",
   "metadata": {},
   "outputs": [],
   "source": [
    "@decorator\n",
    "def say_hello():\n",
    "    print(\"Hello\")"
   ]
  },
  {
   "cell_type": "code",
   "execution_count": 119,
   "id": "791987cd-a1d0-4c1e-a5c3-679321cb1d19",
   "metadata": {},
   "outputs": [
    {
     "name": "stdout",
     "output_type": "stream",
     "text": [
      "lalalalala\n",
      "Hello\n"
     ]
    }
   ],
   "source": [
    "say_hello()"
   ]
  },
  {
   "cell_type": "markdown",
   "id": "a46125f0-dcef-45a6-8c40-86aea9cbd183",
   "metadata": {},
   "source": [
    " "
   ]
  },
  {
   "cell_type": "code",
   "execution_count": 120,
   "id": "489e250a-9ff3-4382-bab2-231507ace247",
   "metadata": {},
   "outputs": [
    {
     "name": "stdout",
     "output_type": "stream",
     "text": [
      "Something is happening before the function is called.\n",
      "Hello!\n",
      "Something is happening after the function is called.\n"
     ]
    }
   ],
   "source": [
    "# 데코레이터 함수 정의\n",
    "def my_decorator(func):\n",
    "    def wrapper():\n",
    "        print(\"Something is happening before the function is called.\")\n",
    "        func()\n",
    "        print(\"Something is happening after the function is called.\")\n",
    "    return wrapper\n",
    "\n",
    "# 데코레이터를 사용하여 함수 수정\n",
    "@my_decorator\n",
    "def say_hello():\n",
    "    print(\"Hello!\")\n",
    "\n",
    "# 데코레이터가 추가된 함수 호출\n",
    "say_hello()"
   ]
  },
  {
   "cell_type": "markdown",
   "id": "ca329f0b-13e2-440c-a612-18b98b48aa5a",
   "metadata": {},
   "source": []
  },
  {
   "cell_type": "markdown",
   "id": "f7b12fb4-a9fc-4a90-9dc2-c94b53d6e10d",
   "metadata": {},
   "source": [
    "데코레이터를 사용하면 함수를 수정하지 않고도 여러 가지 기능을 추가하거나 변경할 수 있으며, <br>코드 재사용과 가독성을 향상시킬 수 있다. <br>\n",
    "파이썬에서는 이러한 데코레이터 패턴을 자주 활용하며, 예를 들어 웹 프레임워크에서 라우팅, 인증, 로깅과 같은 다양한 기능을 데코레이터로 구현한다."
   ]
  },
  {
   "cell_type": "code",
   "execution_count": null,
   "id": "c3e7567c-58c3-410e-9824-205bfaee8d1d",
   "metadata": {},
   "outputs": [],
   "source": []
  },
  {
   "cell_type": "markdown",
   "id": "4ef4ace1-a284-47ee-85d7-ad047505e429",
   "metadata": {},
   "source": [
    "### @property / @classmethod / @staticmethod 데코레이터"
   ]
  },
  {
   "cell_type": "markdown",
   "id": "907c333e-c448-41b0-baf8-25ba772f3f56",
   "metadata": {},
   "source": [
    "파이썬 클래스 내에서 메서드에 특별한 의미와 동작을 부여하기 위해 사용되는 데코레이터 입니다. <br>\n",
    "이들 데코레이터는 클래스의 메서드를 정의할 때 클래스나 인스턴스에 대한 다른 동작을 제공하거나 특정한 형태로 사용할 수 있도록 도와줍니다."
   ]
  },
  {
   "cell_type": "markdown",
   "id": "b0968130-2382-44c4-81de-40da5db8fc73",
   "metadata": {},
   "source": [
    "#### 1. @property:\n",
    "- @property 데코레이터를 메서드 앞에 사용하면 해당 메서드를 속성처럼 사용할 수 있습니다. 이를 \"프로퍼티 메서드\"라고 합니다.\n",
    "- 주로 게터(Getter)로 사용되며, 객체의 특정 속성을 읽을 때 호출됩니다.\n",
    "- @property 데코레이터를 사용하면 값을 읽을 때 메서드를 직접 호출하지 않고도 속성 값을 가져올 수 있습니다."
   ]
  },
  {
   "cell_type": "code",
   "execution_count": 126,
   "id": "777347be-80e9-45a2-b096-e8c0aa45ed89",
   "metadata": {},
   "outputs": [
    {
     "name": "stdout",
     "output_type": "stream",
     "text": [
      "0\n",
      "42\n"
     ]
    }
   ],
   "source": [
    "class MyClass:\n",
    "    def __init__(self):\n",
    "        self._value = 0\n",
    "    \n",
    "    @property\n",
    "    def value(self):\n",
    "        return self._value\n",
    "\n",
    "    @value.setter\n",
    "    def value(self, new_value):\n",
    "        if new_value >= 0:\n",
    "            self._value = new_value\n",
    "        else:\n",
    "            raise ValueError(\"Value cannot be negative.\")\n",
    "\n",
    "obj = MyClass()\n",
    "print(obj.value)  # 프로퍼티 메서드로 속성 값을 가져옴\n",
    "obj.value = 42   # 프로퍼티 메서드로 속성 값을 설정\n",
    "print(obj.value)\n"
   ]
  },
  {
   "cell_type": "markdown",
   "id": "9bd62814-a787-4801-8364-c3cb043f639c",
   "metadata": {},
   "source": [
    " "
   ]
  },
  {
   "cell_type": "markdown",
   "id": "8c389b77-e1e6-4863-8e64-40115cbdccb3",
   "metadata": {},
   "source": [
    "#### 2. @classmethod:\n",
    "@classmethod 데코레이터를 사용하여 클래스 메서드를 정의할 수 있습니다. <br>\n",
    "클래스 메서드는 <u>클래스 자체를 대상으로 동작</u>하며, 첫 번째 매개변수로 클래스 자체를 받습니다.<br>\n",
    "주로 클래스에 대한 작업을 수행하거나 클래스 속성을 수정하는 메서드에 사용됩니다."
   ]
  },
  {
   "cell_type": "code",
   "execution_count": 132,
   "id": "d8b7b226-fbf2-4ea2-987f-07c5065480f7",
   "metadata": {},
   "outputs": [
    {
     "name": "stdout",
     "output_type": "stream",
     "text": [
      "Class variable: 1\n"
     ]
    }
   ],
   "source": [
    "class MyClass:\n",
    "    class_variable = 0\n",
    "    \n",
    "    def __init__(self, instance_variable):\n",
    "        self.instance_variable = instance_variable\n",
    "\n",
    "    @classmethod\n",
    "    def class_method(cls):\n",
    "        cls.class_variable += 1\n",
    "        print(f\"Class variable: {cls.class_variable}\")\n",
    "\n",
    "obj1 = MyClass(10)\n",
    "obj2 = MyClass(20)\n",
    "\n",
    "MyClass.class_method()  # 클래스 메서드 호출"
   ]
  },
  {
   "cell_type": "markdown",
   "id": "e265cfbb-b191-4938-afc7-450603486d7a",
   "metadata": {},
   "source": [
    "## ???"
   ]
  },
  {
   "cell_type": "code",
   "execution_count": 135,
   "id": "173d8db8-2c76-49a0-ad3f-09128b110690",
   "metadata": {},
   "outputs": [
    {
     "name": "stdout",
     "output_type": "stream",
     "text": [
      "1\n",
      "1\n"
     ]
    }
   ],
   "source": [
    "print(obj1.class_variable) # 11?\n",
    "print(obj2.class_variable) # 21?"
   ]
  },
  {
   "cell_type": "markdown",
   "id": "822ecb8e-d13c-4369-9e75-416c8ce4148a",
   "metadata": {},
   "source": [
    " "
   ]
  },
  {
   "cell_type": "markdown",
   "id": "69671a89-4f1c-4739-8338-b15175c1297e",
   "metadata": {},
   "source": [
    "#### 3. @staticmethod:\n",
    "@staticmethod 데코레이터를 사용하여 정적(static) 메서드를 정의할 수 있습니다. <br>\n",
    "정적 메서드는 클래스나 인스턴스와 무관하게 동작하며, 특별한 첫 번째 매개변수를 받지 않습니다. <br>\n",
    "주로 클래스 내에서 공통된 동작을 수행하는 메서드를 정의할 때 사용됩니다."
   ]
  },
  {
   "cell_type": "code",
   "execution_count": 138,
   "id": "4dce5d43-4a7b-4ad6-8c76-70283afee51b",
   "metadata": {},
   "outputs": [],
   "source": [
    "class MathOperations:\n",
    "    @staticmethod\n",
    "    def add(x, y):\n",
    "        return x + y\n",
    "\n",
    "    @staticmethod\n",
    "    def multiply(x, y):\n",
    "        return x * y\n",
    "\n",
    "result1 = MathOperations.add(5, 3)\n",
    "result2 = MathOperations.multiply(4, 6)\n"
   ]
  },
  {
   "cell_type": "markdown",
   "id": "b9d4d3d1-1d19-42a5-9128-c7e19750bc55",
   "metadata": {},
   "source": [
    "이렇게 @property, @classmethod, 그리고 @staticmethod 데코레이터를 사용하면 <br>\n",
    "클래스 내의 메서드를 더 명확하게 정의하고 다양한 동작을 추가할 수 있습니다."
   ]
  },
  {
   "cell_type": "code",
   "execution_count": null,
   "id": "cbe5a7bb-5dfe-4ae5-b867-38ae2d6bf53b",
   "metadata": {},
   "outputs": [],
   "source": []
  }
 ],
 "metadata": {
  "kernelspec": {
   "display_name": "base39",
   "language": "python",
   "name": "base39"
  },
  "language_info": {
   "codemirror_mode": {
    "name": "ipython",
    "version": 3
   },
   "file_extension": ".py",
   "mimetype": "text/x-python",
   "name": "python",
   "nbconvert_exporter": "python",
   "pygments_lexer": "ipython3",
   "version": "3.9.17"
  }
 },
 "nbformat": 4,
 "nbformat_minor": 5
}
